{
 "cells": [
  {
   "cell_type": "markdown",
   "id": "a11bb9c2",
   "metadata": {},
   "source": [
    "### Exercise 1: \n",
    "\n",
    "#### 1. Import the Standard Libraries\n",
    "#### 2. Import the HR dataset\n",
    "#### 3. Check the head of the Dataframe\n",
    "#### 4. Check the shape and info to get basic idea of the dataset"
   ]
  },
  {
   "cell_type": "code",
   "execution_count": 119,
   "id": "a568640d",
   "metadata": {},
   "outputs": [],
   "source": [
    "import numpy as np\n",
    "import pandas as pd\n",
    "import matplotlib.pyplot as plt\n",
    "import seaborn as sns"
   ]
  },
  {
   "cell_type": "code",
   "execution_count": 120,
   "id": "2dec033a",
   "metadata": {},
   "outputs": [],
   "source": [
    "df = pd.read_csv('aug_train.csv')"
   ]
  },
  {
   "cell_type": "code",
   "execution_count": 121,
   "id": "bdca2ba3",
   "metadata": {},
   "outputs": [
    {
     "data": {
      "text/html": [
       "<div>\n",
       "<style scoped>\n",
       "    .dataframe tbody tr th:only-of-type {\n",
       "        vertical-align: middle;\n",
       "    }\n",
       "\n",
       "    .dataframe tbody tr th {\n",
       "        vertical-align: top;\n",
       "    }\n",
       "\n",
       "    .dataframe thead th {\n",
       "        text-align: right;\n",
       "    }\n",
       "</style>\n",
       "<table border=\"1\" class=\"dataframe\">\n",
       "  <thead>\n",
       "    <tr style=\"text-align: right;\">\n",
       "      <th></th>\n",
       "      <th>enrollee_id</th>\n",
       "      <th>city</th>\n",
       "      <th>city_development_index</th>\n",
       "      <th>gender</th>\n",
       "      <th>relevent_experience</th>\n",
       "      <th>enrolled_university</th>\n",
       "      <th>education_level</th>\n",
       "      <th>major_discipline</th>\n",
       "      <th>experience</th>\n",
       "      <th>company_size</th>\n",
       "      <th>company_type</th>\n",
       "      <th>last_new_job</th>\n",
       "      <th>training_hours</th>\n",
       "      <th>target</th>\n",
       "    </tr>\n",
       "  </thead>\n",
       "  <tbody>\n",
       "    <tr>\n",
       "      <th>0</th>\n",
       "      <td>8949</td>\n",
       "      <td>city_103</td>\n",
       "      <td>0.920</td>\n",
       "      <td>Male</td>\n",
       "      <td>Has relevent experience</td>\n",
       "      <td>no_enrollment</td>\n",
       "      <td>Graduate</td>\n",
       "      <td>STEM</td>\n",
       "      <td>&gt;20</td>\n",
       "      <td>NaN</td>\n",
       "      <td>NaN</td>\n",
       "      <td>1</td>\n",
       "      <td>36</td>\n",
       "      <td>1.0</td>\n",
       "    </tr>\n",
       "    <tr>\n",
       "      <th>1</th>\n",
       "      <td>29725</td>\n",
       "      <td>city_40</td>\n",
       "      <td>0.776</td>\n",
       "      <td>Male</td>\n",
       "      <td>No relevent experience</td>\n",
       "      <td>no_enrollment</td>\n",
       "      <td>Graduate</td>\n",
       "      <td>STEM</td>\n",
       "      <td>15</td>\n",
       "      <td>50-99</td>\n",
       "      <td>Pvt Ltd</td>\n",
       "      <td>&gt;4</td>\n",
       "      <td>47</td>\n",
       "      <td>0.0</td>\n",
       "    </tr>\n",
       "    <tr>\n",
       "      <th>2</th>\n",
       "      <td>11561</td>\n",
       "      <td>city_21</td>\n",
       "      <td>0.624</td>\n",
       "      <td>NaN</td>\n",
       "      <td>No relevent experience</td>\n",
       "      <td>Full time course</td>\n",
       "      <td>Graduate</td>\n",
       "      <td>STEM</td>\n",
       "      <td>5</td>\n",
       "      <td>NaN</td>\n",
       "      <td>NaN</td>\n",
       "      <td>never</td>\n",
       "      <td>83</td>\n",
       "      <td>0.0</td>\n",
       "    </tr>\n",
       "    <tr>\n",
       "      <th>3</th>\n",
       "      <td>33241</td>\n",
       "      <td>city_115</td>\n",
       "      <td>0.789</td>\n",
       "      <td>NaN</td>\n",
       "      <td>No relevent experience</td>\n",
       "      <td>NaN</td>\n",
       "      <td>Graduate</td>\n",
       "      <td>Business Degree</td>\n",
       "      <td>&lt;1</td>\n",
       "      <td>NaN</td>\n",
       "      <td>Pvt Ltd</td>\n",
       "      <td>never</td>\n",
       "      <td>52</td>\n",
       "      <td>1.0</td>\n",
       "    </tr>\n",
       "    <tr>\n",
       "      <th>4</th>\n",
       "      <td>666</td>\n",
       "      <td>city_162</td>\n",
       "      <td>0.767</td>\n",
       "      <td>Male</td>\n",
       "      <td>Has relevent experience</td>\n",
       "      <td>no_enrollment</td>\n",
       "      <td>Masters</td>\n",
       "      <td>STEM</td>\n",
       "      <td>&gt;20</td>\n",
       "      <td>50-99</td>\n",
       "      <td>Funded Startup</td>\n",
       "      <td>4</td>\n",
       "      <td>8</td>\n",
       "      <td>0.0</td>\n",
       "    </tr>\n",
       "  </tbody>\n",
       "</table>\n",
       "</div>"
      ],
      "text/plain": [
       "   enrollee_id      city  city_development_index gender  \\\n",
       "0         8949  city_103                   0.920   Male   \n",
       "1        29725   city_40                   0.776   Male   \n",
       "2        11561   city_21                   0.624    NaN   \n",
       "3        33241  city_115                   0.789    NaN   \n",
       "4          666  city_162                   0.767   Male   \n",
       "\n",
       "       relevent_experience enrolled_university education_level  \\\n",
       "0  Has relevent experience       no_enrollment        Graduate   \n",
       "1   No relevent experience       no_enrollment        Graduate   \n",
       "2   No relevent experience    Full time course        Graduate   \n",
       "3   No relevent experience                 NaN        Graduate   \n",
       "4  Has relevent experience       no_enrollment         Masters   \n",
       "\n",
       "  major_discipline experience company_size    company_type last_new_job  \\\n",
       "0             STEM        >20          NaN             NaN            1   \n",
       "1             STEM         15        50-99         Pvt Ltd           >4   \n",
       "2             STEM          5          NaN             NaN        never   \n",
       "3  Business Degree         <1          NaN         Pvt Ltd        never   \n",
       "4             STEM        >20        50-99  Funded Startup            4   \n",
       "\n",
       "   training_hours  target  \n",
       "0              36     1.0  \n",
       "1              47     0.0  \n",
       "2              83     0.0  \n",
       "3              52     1.0  \n",
       "4               8     0.0  "
      ]
     },
     "execution_count": 121,
     "metadata": {},
     "output_type": "execute_result"
    }
   ],
   "source": [
    "df.head()"
   ]
  },
  {
   "cell_type": "code",
   "execution_count": 122,
   "id": "dcb8cf43",
   "metadata": {},
   "outputs": [
    {
     "data": {
      "text/plain": [
       "(19158, 14)"
      ]
     },
     "execution_count": 122,
     "metadata": {},
     "output_type": "execute_result"
    }
   ],
   "source": [
    "df.shape"
   ]
  },
  {
   "cell_type": "code",
   "execution_count": 123,
   "id": "68130035",
   "metadata": {},
   "outputs": [
    {
     "name": "stdout",
     "output_type": "stream",
     "text": [
      "<class 'pandas.core.frame.DataFrame'>\n",
      "RangeIndex: 19158 entries, 0 to 19157\n",
      "Data columns (total 14 columns):\n",
      " #   Column                  Non-Null Count  Dtype  \n",
      "---  ------                  --------------  -----  \n",
      " 0   enrollee_id             19158 non-null  int64  \n",
      " 1   city                    19158 non-null  object \n",
      " 2   city_development_index  19158 non-null  float64\n",
      " 3   gender                  14650 non-null  object \n",
      " 4   relevent_experience     19158 non-null  object \n",
      " 5   enrolled_university     18772 non-null  object \n",
      " 6   education_level         18698 non-null  object \n",
      " 7   major_discipline        16345 non-null  object \n",
      " 8   experience              19093 non-null  object \n",
      " 9   company_size            13220 non-null  object \n",
      " 10  company_type            13018 non-null  object \n",
      " 11  last_new_job            18735 non-null  object \n",
      " 12  training_hours          19158 non-null  int64  \n",
      " 13  target                  19158 non-null  float64\n",
      "dtypes: float64(2), int64(2), object(10)\n",
      "memory usage: 2.0+ MB\n"
     ]
    }
   ],
   "source": [
    "df.info()"
   ]
  },
  {
   "cell_type": "markdown",
   "id": "f4f531a3",
   "metadata": {},
   "source": [
    "**Context and Content:**\n",
    "\n",
    "A company which is active in Big Data and Data Science wants to hire data scientists among people who successfully pass some courses which conduct by the company. Many people signup for their training. Company wants to know which of these candidates are really wants to work for the company after training or looking for a new employment because it helps to reduce the cost and time as well as the quality of training or planning the courses and categorization of candidates. Information related to demographics, education, experience are in hands from candidates signup and enrollment.\n",
    "\n",
    "enrollee_id : Unique ID for candidate\n",
    "\n",
    "city: City code\n",
    "\n",
    "city_ development _index : Developement index of the city (scaled)\n",
    "\n",
    "gender: Gender of candidate\n",
    "\n",
    "relevent_experience: Relevant experience of candidate\n",
    "\n",
    "enrolled_university: Type of University course enrolled if any\n",
    "\n",
    "education_level: Education level of candidate\n",
    "\n",
    "major_discipline :Education major discipline of candidate\n",
    "\n",
    "experience: Candidate total experience in years\n",
    "\n",
    "company_size: No of employees in current employer's company\n",
    "\n",
    "company_type : Type of current employer\n",
    "\n",
    "last_new_job: Difference in years between previous job and current job\n",
    "\n",
    "training_hours: training hours completed\n",
    "\n",
    "target: 0 – Not looking for job change, 1 – Looking for a job change"
   ]
  },
  {
   "cell_type": "markdown",
   "id": "ae904fe3",
   "metadata": {},
   "source": [
    "### Exercise 2: \n",
    "\n",
    "#### 1. Check the Null Values in the Data\n",
    "#### 2. Apply appropriate technique to deal with missing values"
   ]
  },
  {
   "cell_type": "code",
   "execution_count": 124,
   "id": "d7e1bcb4",
   "metadata": {},
   "outputs": [
    {
     "data": {
      "text/plain": [
       "enrollee_id                0.000000\n",
       "city                       0.000000\n",
       "city_development_index     0.000000\n",
       "gender                    23.530640\n",
       "relevent_experience        0.000000\n",
       "enrolled_university        2.014824\n",
       "education_level            2.401086\n",
       "major_discipline          14.683161\n",
       "experience                 0.339284\n",
       "company_size              30.994885\n",
       "company_type              32.049274\n",
       "last_new_job               2.207955\n",
       "training_hours             0.000000\n",
       "target                     0.000000\n",
       "dtype: float64"
      ]
     },
     "execution_count": 124,
     "metadata": {},
     "output_type": "execute_result"
    }
   ],
   "source": [
    "df.isna().sum()*100/len(df)"
   ]
  },
  {
   "cell_type": "code",
   "execution_count": 125,
   "id": "d474b32d",
   "metadata": {},
   "outputs": [
    {
     "data": {
      "text/plain": [
       "gender\n",
       "Male      13221\n",
       "Female     1238\n",
       "Other       191\n",
       "Name: count, dtype: int64"
      ]
     },
     "execution_count": 125,
     "metadata": {},
     "output_type": "execute_result"
    }
   ],
   "source": [
    "df['gender'].value_counts()"
   ]
  },
  {
   "cell_type": "code",
   "execution_count": 126,
   "id": "6a7f94dc",
   "metadata": {},
   "outputs": [],
   "source": [
    "df['gender'] = df['gender'].fillna('Not Specified')"
   ]
  },
  {
   "cell_type": "code",
   "execution_count": 127,
   "id": "c78f7ba1",
   "metadata": {},
   "outputs": [
    {
     "data": {
      "text/plain": [
       "company_type\n",
       "Pvt Ltd                9817\n",
       "Funded Startup         1001\n",
       "Public Sector           955\n",
       "Early Stage Startup     603\n",
       "NGO                     521\n",
       "Other                   121\n",
       "Name: count, dtype: int64"
      ]
     },
     "execution_count": 127,
     "metadata": {},
     "output_type": "execute_result"
    }
   ],
   "source": [
    "df['company_type'].value_counts()"
   ]
  },
  {
   "cell_type": "code",
   "execution_count": 128,
   "id": "ba71c87b",
   "metadata": {},
   "outputs": [],
   "source": [
    "df['company_type'] = df['company_type'].fillna('Not Specified')"
   ]
  },
  {
   "cell_type": "code",
   "execution_count": 129,
   "id": "2a528fc0",
   "metadata": {},
   "outputs": [],
   "source": [
    "df['company_size'] = df['company_size'].fillna('0')"
   ]
  },
  {
   "cell_type": "code",
   "execution_count": 130,
   "id": "32f2e6e4",
   "metadata": {},
   "outputs": [],
   "source": [
    "df['enrolled_university'] = df['enrolled_university'].fillna('no_enrollment')"
   ]
  },
  {
   "cell_type": "code",
   "execution_count": 131,
   "id": "cd48d28c",
   "metadata": {},
   "outputs": [
    {
     "data": {
      "text/plain": [
       "education_level\n",
       "Graduate          11598\n",
       "Masters            4361\n",
       "High School        2017\n",
       "Phd                 414\n",
       "Primary School      308\n",
       "Name: count, dtype: int64"
      ]
     },
     "execution_count": 131,
     "metadata": {},
     "output_type": "execute_result"
    }
   ],
   "source": [
    "df['education_level'].value_counts()"
   ]
  },
  {
   "cell_type": "code",
   "execution_count": 132,
   "id": "88b1055f",
   "metadata": {},
   "outputs": [],
   "source": [
    "df['education_level'] = df['education_level'].fillna('Not Specified')"
   ]
  },
  {
   "cell_type": "code",
   "execution_count": 133,
   "id": "9d42b72c",
   "metadata": {},
   "outputs": [],
   "source": [
    "df['major_discipline'] = df['major_discipline'].fillna('Not Specified')"
   ]
  },
  {
   "cell_type": "code",
   "execution_count": 134,
   "id": "8c3b82e2",
   "metadata": {},
   "outputs": [
    {
     "data": {
      "text/plain": [
       "last_new_job\n",
       "1        8040\n",
       ">4       3290\n",
       "2        2900\n",
       "never    2452\n",
       "4        1029\n",
       "3        1024\n",
       "Name: count, dtype: int64"
      ]
     },
     "execution_count": 134,
     "metadata": {},
     "output_type": "execute_result"
    }
   ],
   "source": [
    "df['last_new_job'].value_counts()"
   ]
  },
  {
   "cell_type": "code",
   "execution_count": 135,
   "id": "43027700",
   "metadata": {},
   "outputs": [],
   "source": [
    "df['last_new_job'] = df['last_new_job'].fillna('0')"
   ]
  },
  {
   "cell_type": "code",
   "execution_count": 136,
   "id": "5667c55c",
   "metadata": {},
   "outputs": [],
   "source": [
    "df['last_new_job'] = np.where(df['last_new_job']=='never','0',\n",
    "         np.where(df['last_new_job']=='>4','5',df['last_new_job']))"
   ]
  },
  {
   "cell_type": "code",
   "execution_count": 137,
   "id": "5422acd3",
   "metadata": {},
   "outputs": [],
   "source": [
    "df['last_new_job'] = df['last_new_job'].astype(int)"
   ]
  },
  {
   "cell_type": "code",
   "execution_count": 138,
   "id": "aca51ff5",
   "metadata": {},
   "outputs": [
    {
     "data": {
      "text/plain": [
       "experience\n",
       ">20    3286\n",
       "5      1430\n",
       "4      1403\n",
       "3      1354\n",
       "6      1216\n",
       "2      1127\n",
       "7      1028\n",
       "10      985\n",
       "9       980\n",
       "8       802\n",
       "15      686\n",
       "11      664\n",
       "14      586\n",
       "1       549\n",
       "<1      522\n",
       "16      508\n",
       "12      494\n",
       "13      399\n",
       "17      342\n",
       "19      304\n",
       "18      280\n",
       "20      148\n",
       "Name: count, dtype: int64"
      ]
     },
     "execution_count": 138,
     "metadata": {},
     "output_type": "execute_result"
    }
   ],
   "source": [
    "df['experience'].value_counts()"
   ]
  },
  {
   "cell_type": "code",
   "execution_count": 139,
   "id": "eca6dc3b",
   "metadata": {},
   "outputs": [],
   "source": [
    "df['experience'] = df['experience'].fillna('0')"
   ]
  },
  {
   "cell_type": "code",
   "execution_count": 140,
   "id": "50f6f02c",
   "metadata": {},
   "outputs": [],
   "source": [
    "df['experience'] = np.where(df['experience']=='<1','0',\n",
    "         np.where(df['experience']=='>20','25',df['experience']))"
   ]
  },
  {
   "cell_type": "code",
   "execution_count": 141,
   "id": "3e5af669",
   "metadata": {},
   "outputs": [],
   "source": [
    "df['experience'] = df['experience'].astype(int)"
   ]
  },
  {
   "cell_type": "code",
   "execution_count": 142,
   "id": "ea104128",
   "metadata": {},
   "outputs": [
    {
     "data": {
      "text/plain": [
       "0        1\n",
       "1        5\n",
       "2        0\n",
       "3        0\n",
       "4        4\n",
       "        ..\n",
       "19153    1\n",
       "19154    4\n",
       "19155    4\n",
       "19156    2\n",
       "19157    1\n",
       "Name: last_new_job, Length: 19158, dtype: int32"
      ]
     },
     "execution_count": 142,
     "metadata": {},
     "output_type": "execute_result"
    }
   ],
   "source": [
    "df['last_new_job']"
   ]
  },
  {
   "cell_type": "code",
   "execution_count": 143,
   "id": "b993e8fc",
   "metadata": {},
   "outputs": [],
   "source": [
    "df = df.drop(['city', 'enrollee_id'], axis=1)"
   ]
  },
  {
   "cell_type": "markdown",
   "id": "03a88215",
   "metadata": {},
   "source": [
    "### Exercise 3: \n",
    "\n",
    "#### 1. Get the dummies (One-hot encoding)"
   ]
  },
  {
   "cell_type": "code",
   "execution_count": 146,
   "id": "640b050d",
   "metadata": {},
   "outputs": [],
   "source": [
    "df = pd.get_dummies(df,drop_first=True)"
   ]
  },
  {
   "cell_type": "markdown",
   "id": "2d193604",
   "metadata": {},
   "source": [
    "### Exercise 4: \n",
    "\n",
    "#### 1. Define X and y\n",
    "#### 2. Import the required libraries to train and evaluate the model\n",
    "#### 3. Perform Train test split"
   ]
  },
  {
   "cell_type": "code",
   "execution_count": 148,
   "id": "3d32eb44",
   "metadata": {},
   "outputs": [],
   "source": [
    "X = df.drop('target', axis=1)\n",
    "y = df['target']"
   ]
  },
  {
   "cell_type": "code",
   "execution_count": 158,
   "id": "f6dfd431",
   "metadata": {},
   "outputs": [],
   "source": [
    "from sklearn.model_selection import train_test_split,GridSearchCV\n",
    "from sklearn.ensemble import RandomForestClassifier\n",
    "from sklearn.metrics import classification_report,confusion_matrix"
   ]
  },
  {
   "cell_type": "code",
   "execution_count": 153,
   "id": "65fa108c",
   "metadata": {},
   "outputs": [],
   "source": [
    "X_train, X_test, y_train, y_test = train_test_split(X, y, test_size=0.2, random_state=42)"
   ]
  },
  {
   "cell_type": "markdown",
   "id": "760a68b4",
   "metadata": {},
   "source": [
    "### Exercise 5: \n",
    "\n",
    "#### 1.Fit the Random Forest Classifier\n",
    "#### 2. Evaluate the Model"
   ]
  },
  {
   "cell_type": "code",
   "execution_count": 154,
   "id": "f35506d4",
   "metadata": {},
   "outputs": [
    {
     "data": {
      "text/html": [
       "<style>#sk-container-id-1 {color: black;background-color: white;}#sk-container-id-1 pre{padding: 0;}#sk-container-id-1 div.sk-toggleable {background-color: white;}#sk-container-id-1 label.sk-toggleable__label {cursor: pointer;display: block;width: 100%;margin-bottom: 0;padding: 0.3em;box-sizing: border-box;text-align: center;}#sk-container-id-1 label.sk-toggleable__label-arrow:before {content: \"▸\";float: left;margin-right: 0.25em;color: #696969;}#sk-container-id-1 label.sk-toggleable__label-arrow:hover:before {color: black;}#sk-container-id-1 div.sk-estimator:hover label.sk-toggleable__label-arrow:before {color: black;}#sk-container-id-1 div.sk-toggleable__content {max-height: 0;max-width: 0;overflow: hidden;text-align: left;background-color: #f0f8ff;}#sk-container-id-1 div.sk-toggleable__content pre {margin: 0.2em;color: black;border-radius: 0.25em;background-color: #f0f8ff;}#sk-container-id-1 input.sk-toggleable__control:checked~div.sk-toggleable__content {max-height: 200px;max-width: 100%;overflow: auto;}#sk-container-id-1 input.sk-toggleable__control:checked~label.sk-toggleable__label-arrow:before {content: \"▾\";}#sk-container-id-1 div.sk-estimator input.sk-toggleable__control:checked~label.sk-toggleable__label {background-color: #d4ebff;}#sk-container-id-1 div.sk-label input.sk-toggleable__control:checked~label.sk-toggleable__label {background-color: #d4ebff;}#sk-container-id-1 input.sk-hidden--visually {border: 0;clip: rect(1px 1px 1px 1px);clip: rect(1px, 1px, 1px, 1px);height: 1px;margin: -1px;overflow: hidden;padding: 0;position: absolute;width: 1px;}#sk-container-id-1 div.sk-estimator {font-family: monospace;background-color: #f0f8ff;border: 1px dotted black;border-radius: 0.25em;box-sizing: border-box;margin-bottom: 0.5em;}#sk-container-id-1 div.sk-estimator:hover {background-color: #d4ebff;}#sk-container-id-1 div.sk-parallel-item::after {content: \"\";width: 100%;border-bottom: 1px solid gray;flex-grow: 1;}#sk-container-id-1 div.sk-label:hover label.sk-toggleable__label {background-color: #d4ebff;}#sk-container-id-1 div.sk-serial::before {content: \"\";position: absolute;border-left: 1px solid gray;box-sizing: border-box;top: 0;bottom: 0;left: 50%;z-index: 0;}#sk-container-id-1 div.sk-serial {display: flex;flex-direction: column;align-items: center;background-color: white;padding-right: 0.2em;padding-left: 0.2em;position: relative;}#sk-container-id-1 div.sk-item {position: relative;z-index: 1;}#sk-container-id-1 div.sk-parallel {display: flex;align-items: stretch;justify-content: center;background-color: white;position: relative;}#sk-container-id-1 div.sk-item::before, #sk-container-id-1 div.sk-parallel-item::before {content: \"\";position: absolute;border-left: 1px solid gray;box-sizing: border-box;top: 0;bottom: 0;left: 50%;z-index: -1;}#sk-container-id-1 div.sk-parallel-item {display: flex;flex-direction: column;z-index: 1;position: relative;background-color: white;}#sk-container-id-1 div.sk-parallel-item:first-child::after {align-self: flex-end;width: 50%;}#sk-container-id-1 div.sk-parallel-item:last-child::after {align-self: flex-start;width: 50%;}#sk-container-id-1 div.sk-parallel-item:only-child::after {width: 0;}#sk-container-id-1 div.sk-dashed-wrapped {border: 1px dashed gray;margin: 0 0.4em 0.5em 0.4em;box-sizing: border-box;padding-bottom: 0.4em;background-color: white;}#sk-container-id-1 div.sk-label label {font-family: monospace;font-weight: bold;display: inline-block;line-height: 1.2em;}#sk-container-id-1 div.sk-label-container {text-align: center;}#sk-container-id-1 div.sk-container {/* jupyter's `normalize.less` sets `[hidden] { display: none; }` but bootstrap.min.css set `[hidden] { display: none !important; }` so we also need the `!important` here to be able to override the default hidden behavior on the sphinx rendered scikit-learn.org. See: https://github.com/scikit-learn/scikit-learn/issues/21755 */display: inline-block !important;position: relative;}#sk-container-id-1 div.sk-text-repr-fallback {display: none;}</style><div id=\"sk-container-id-1\" class=\"sk-top-container\"><div class=\"sk-text-repr-fallback\"><pre>RandomForestClassifier()</pre><b>In a Jupyter environment, please rerun this cell to show the HTML representation or trust the notebook. <br />On GitHub, the HTML representation is unable to render, please try loading this page with nbviewer.org.</b></div><div class=\"sk-container\" hidden><div class=\"sk-item\"><div class=\"sk-estimator sk-toggleable\"><input class=\"sk-toggleable__control sk-hidden--visually\" id=\"sk-estimator-id-1\" type=\"checkbox\" checked><label for=\"sk-estimator-id-1\" class=\"sk-toggleable__label sk-toggleable__label-arrow\">RandomForestClassifier</label><div class=\"sk-toggleable__content\"><pre>RandomForestClassifier()</pre></div></div></div></div></div>"
      ],
      "text/plain": [
       "RandomForestClassifier()"
      ]
     },
     "execution_count": 154,
     "metadata": {},
     "output_type": "execute_result"
    }
   ],
   "source": [
    "model = RandomForestClassifier()\n",
    "model.fit(X_train, y_train)"
   ]
  },
  {
   "cell_type": "code",
   "execution_count": 156,
   "id": "c845da7a",
   "metadata": {},
   "outputs": [],
   "source": [
    "y_pred = model.predict(X_test)"
   ]
  },
  {
   "cell_type": "code",
   "execution_count": 157,
   "id": "694cc074",
   "metadata": {},
   "outputs": [
    {
     "name": "stdout",
     "output_type": "stream",
     "text": [
      "              precision    recall  f1-score   support\n",
      "\n",
      "         0.0       0.82      0.89      0.86      2880\n",
      "         1.0       0.56      0.42      0.48       952\n",
      "\n",
      "    accuracy                           0.77      3832\n",
      "   macro avg       0.69      0.65      0.67      3832\n",
      "weighted avg       0.76      0.77      0.76      3832\n",
      "\n"
     ]
    }
   ],
   "source": [
    "print(classification_report(y_test,y_pred))"
   ]
  },
  {
   "cell_type": "markdown",
   "id": "41bc8da4",
   "metadata": {},
   "source": [
    "### Exercise 6: \n",
    "\n",
    "#### 1. Do GridSearchCV to find best parameters\n",
    "#### 2. Make the predictions on best fit model\n",
    "#### 3. Evaluate the best fit model"
   ]
  },
  {
   "cell_type": "code",
   "execution_count": 161,
   "id": "75d16d28",
   "metadata": {},
   "outputs": [],
   "source": [
    "base_model = RandomForestClassifier()\n",
    "criterion = ['gini', 'entropy']\n",
    "max_depth = [2, 5, 10, 20]\n",
    "max_leaf_nodes = [2, 5, 10, 20]\n",
    "n_estimators = [10, 25, 50, 100]\n",
    "params = {'criterion':criterion, 'max_depth':max_depth, 'max_leaf_nodes':max_leaf_nodes, 'n_estimators':n_estimators}\n",
    "grid = GridSearchCV(base_model, params, cv=5,verbose=5)"
   ]
  },
  {
   "cell_type": "code",
   "execution_count": 162,
   "id": "652bc41f",
   "metadata": {
    "scrolled": true
   },
   "outputs": [
    {
     "name": "stdout",
     "output_type": "stream",
     "text": [
      "Fitting 5 folds for each of 128 candidates, totalling 640 fits\n",
      "[CV 1/5] END criterion=gini, max_depth=2, max_leaf_nodes=2, n_estimators=10;, score=0.750 total time=   0.0s\n",
      "[CV 2/5] END criterion=gini, max_depth=2, max_leaf_nodes=2, n_estimators=10;, score=0.750 total time=   0.0s\n",
      "[CV 3/5] END criterion=gini, max_depth=2, max_leaf_nodes=2, n_estimators=10;, score=0.750 total time=   0.0s\n",
      "[CV 4/5] END criterion=gini, max_depth=2, max_leaf_nodes=2, n_estimators=10;, score=0.750 total time=   0.0s\n",
      "[CV 5/5] END criterion=gini, max_depth=2, max_leaf_nodes=2, n_estimators=10;, score=0.750 total time=   0.0s\n",
      "[CV 1/5] END criterion=gini, max_depth=2, max_leaf_nodes=2, n_estimators=25;, score=0.750 total time=   0.0s\n",
      "[CV 2/5] END criterion=gini, max_depth=2, max_leaf_nodes=2, n_estimators=25;, score=0.750 total time=   0.0s\n",
      "[CV 3/5] END criterion=gini, max_depth=2, max_leaf_nodes=2, n_estimators=25;, score=0.750 total time=   0.0s\n",
      "[CV 4/5] END criterion=gini, max_depth=2, max_leaf_nodes=2, n_estimators=25;, score=0.750 total time=   0.0s\n",
      "[CV 5/5] END criterion=gini, max_depth=2, max_leaf_nodes=2, n_estimators=25;, score=0.750 total time=   0.0s\n",
      "[CV 1/5] END criterion=gini, max_depth=2, max_leaf_nodes=2, n_estimators=50;, score=0.750 total time=   0.0s\n",
      "[CV 2/5] END criterion=gini, max_depth=2, max_leaf_nodes=2, n_estimators=50;, score=0.750 total time=   0.0s\n",
      "[CV 3/5] END criterion=gini, max_depth=2, max_leaf_nodes=2, n_estimators=50;, score=0.750 total time=   0.0s\n",
      "[CV 4/5] END criterion=gini, max_depth=2, max_leaf_nodes=2, n_estimators=50;, score=0.750 total time=   0.0s\n",
      "[CV 5/5] END criterion=gini, max_depth=2, max_leaf_nodes=2, n_estimators=50;, score=0.750 total time=   0.0s\n",
      "[CV 1/5] END criterion=gini, max_depth=2, max_leaf_nodes=2, n_estimators=100;, score=0.750 total time=   0.2s\n",
      "[CV 2/5] END criterion=gini, max_depth=2, max_leaf_nodes=2, n_estimators=100;, score=0.750 total time=   0.2s\n",
      "[CV 3/5] END criterion=gini, max_depth=2, max_leaf_nodes=2, n_estimators=100;, score=0.750 total time=   0.2s\n",
      "[CV 4/5] END criterion=gini, max_depth=2, max_leaf_nodes=2, n_estimators=100;, score=0.750 total time=   0.2s\n",
      "[CV 5/5] END criterion=gini, max_depth=2, max_leaf_nodes=2, n_estimators=100;, score=0.750 total time=   0.2s\n",
      "[CV 1/5] END criterion=gini, max_depth=2, max_leaf_nodes=5, n_estimators=10;, score=0.750 total time=   0.0s\n",
      "[CV 2/5] END criterion=gini, max_depth=2, max_leaf_nodes=5, n_estimators=10;, score=0.750 total time=   0.0s\n",
      "[CV 3/5] END criterion=gini, max_depth=2, max_leaf_nodes=5, n_estimators=10;, score=0.750 total time=   0.0s\n",
      "[CV 4/5] END criterion=gini, max_depth=2, max_leaf_nodes=5, n_estimators=10;, score=0.750 total time=   0.0s\n",
      "[CV 5/5] END criterion=gini, max_depth=2, max_leaf_nodes=5, n_estimators=10;, score=0.750 total time=   0.0s\n",
      "[CV 1/5] END criterion=gini, max_depth=2, max_leaf_nodes=5, n_estimators=25;, score=0.750 total time=   0.0s\n",
      "[CV 2/5] END criterion=gini, max_depth=2, max_leaf_nodes=5, n_estimators=25;, score=0.750 total time=   0.0s\n",
      "[CV 3/5] END criterion=gini, max_depth=2, max_leaf_nodes=5, n_estimators=25;, score=0.750 total time=   0.0s\n",
      "[CV 4/5] END criterion=gini, max_depth=2, max_leaf_nodes=5, n_estimators=25;, score=0.750 total time=   0.0s\n",
      "[CV 5/5] END criterion=gini, max_depth=2, max_leaf_nodes=5, n_estimators=25;, score=0.750 total time=   0.0s\n",
      "[CV 1/5] END criterion=gini, max_depth=2, max_leaf_nodes=5, n_estimators=50;, score=0.750 total time=   0.0s\n",
      "[CV 2/5] END criterion=gini, max_depth=2, max_leaf_nodes=5, n_estimators=50;, score=0.750 total time=   0.0s\n",
      "[CV 3/5] END criterion=gini, max_depth=2, max_leaf_nodes=5, n_estimators=50;, score=0.750 total time=   0.0s\n",
      "[CV 4/5] END criterion=gini, max_depth=2, max_leaf_nodes=5, n_estimators=50;, score=0.750 total time=   0.0s\n",
      "[CV 5/5] END criterion=gini, max_depth=2, max_leaf_nodes=5, n_estimators=50;, score=0.750 total time=   0.0s\n",
      "[CV 1/5] END criterion=gini, max_depth=2, max_leaf_nodes=5, n_estimators=100;, score=0.750 total time=   0.2s\n",
      "[CV 2/5] END criterion=gini, max_depth=2, max_leaf_nodes=5, n_estimators=100;, score=0.750 total time=   0.2s\n",
      "[CV 3/5] END criterion=gini, max_depth=2, max_leaf_nodes=5, n_estimators=100;, score=0.750 total time=   0.2s\n",
      "[CV 4/5] END criterion=gini, max_depth=2, max_leaf_nodes=5, n_estimators=100;, score=0.750 total time=   0.2s\n",
      "[CV 5/5] END criterion=gini, max_depth=2, max_leaf_nodes=5, n_estimators=100;, score=0.750 total time=   0.2s\n",
      "[CV 1/5] END criterion=gini, max_depth=2, max_leaf_nodes=10, n_estimators=10;, score=0.750 total time=   0.0s\n",
      "[CV 2/5] END criterion=gini, max_depth=2, max_leaf_nodes=10, n_estimators=10;, score=0.751 total time=   0.0s\n",
      "[CV 3/5] END criterion=gini, max_depth=2, max_leaf_nodes=10, n_estimators=10;, score=0.750 total time=   0.0s\n",
      "[CV 4/5] END criterion=gini, max_depth=2, max_leaf_nodes=10, n_estimators=10;, score=0.750 total time=   0.0s\n",
      "[CV 5/5] END criterion=gini, max_depth=2, max_leaf_nodes=10, n_estimators=10;, score=0.750 total time=   0.0s\n",
      "[CV 1/5] END criterion=gini, max_depth=2, max_leaf_nodes=10, n_estimators=25;, score=0.750 total time=   0.0s\n",
      "[CV 2/5] END criterion=gini, max_depth=2, max_leaf_nodes=10, n_estimators=25;, score=0.750 total time=   0.0s\n",
      "[CV 3/5] END criterion=gini, max_depth=2, max_leaf_nodes=10, n_estimators=25;, score=0.750 total time=   0.0s\n",
      "[CV 4/5] END criterion=gini, max_depth=2, max_leaf_nodes=10, n_estimators=25;, score=0.750 total time=   0.0s\n",
      "[CV 5/5] END criterion=gini, max_depth=2, max_leaf_nodes=10, n_estimators=25;, score=0.750 total time=   0.0s\n",
      "[CV 1/5] END criterion=gini, max_depth=2, max_leaf_nodes=10, n_estimators=50;, score=0.750 total time=   0.1s\n",
      "[CV 2/5] END criterion=gini, max_depth=2, max_leaf_nodes=10, n_estimators=50;, score=0.750 total time=   0.0s\n",
      "[CV 3/5] END criterion=gini, max_depth=2, max_leaf_nodes=10, n_estimators=50;, score=0.750 total time=   0.0s\n",
      "[CV 4/5] END criterion=gini, max_depth=2, max_leaf_nodes=10, n_estimators=50;, score=0.750 total time=   0.0s\n",
      "[CV 5/5] END criterion=gini, max_depth=2, max_leaf_nodes=10, n_estimators=50;, score=0.750 total time=   0.0s\n",
      "[CV 1/5] END criterion=gini, max_depth=2, max_leaf_nodes=10, n_estimators=100;, score=0.750 total time=   0.2s\n",
      "[CV 2/5] END criterion=gini, max_depth=2, max_leaf_nodes=10, n_estimators=100;, score=0.750 total time=   0.2s\n",
      "[CV 3/5] END criterion=gini, max_depth=2, max_leaf_nodes=10, n_estimators=100;, score=0.750 total time=   0.2s\n",
      "[CV 4/5] END criterion=gini, max_depth=2, max_leaf_nodes=10, n_estimators=100;, score=0.750 total time=   0.2s\n",
      "[CV 5/5] END criterion=gini, max_depth=2, max_leaf_nodes=10, n_estimators=100;, score=0.750 total time=   0.2s\n",
      "[CV 1/5] END criterion=gini, max_depth=2, max_leaf_nodes=20, n_estimators=10;, score=0.753 total time=   0.0s\n",
      "[CV 2/5] END criterion=gini, max_depth=2, max_leaf_nodes=20, n_estimators=10;, score=0.750 total time=   0.0s\n",
      "[CV 3/5] END criterion=gini, max_depth=2, max_leaf_nodes=20, n_estimators=10;, score=0.750 total time=   0.0s\n",
      "[CV 4/5] END criterion=gini, max_depth=2, max_leaf_nodes=20, n_estimators=10;, score=0.750 total time=   0.0s\n",
      "[CV 5/5] END criterion=gini, max_depth=2, max_leaf_nodes=20, n_estimators=10;, score=0.750 total time=   0.0s\n",
      "[CV 1/5] END criterion=gini, max_depth=2, max_leaf_nodes=20, n_estimators=25;, score=0.750 total time=   0.0s\n",
      "[CV 2/5] END criterion=gini, max_depth=2, max_leaf_nodes=20, n_estimators=25;, score=0.750 total time=   0.0s\n",
      "[CV 3/5] END criterion=gini, max_depth=2, max_leaf_nodes=20, n_estimators=25;, score=0.750 total time=   0.0s\n",
      "[CV 4/5] END criterion=gini, max_depth=2, max_leaf_nodes=20, n_estimators=25;, score=0.750 total time=   0.0s\n",
      "[CV 5/5] END criterion=gini, max_depth=2, max_leaf_nodes=20, n_estimators=25;, score=0.750 total time=   0.0s\n",
      "[CV 1/5] END criterion=gini, max_depth=2, max_leaf_nodes=20, n_estimators=50;, score=0.750 total time=   0.0s\n",
      "[CV 2/5] END criterion=gini, max_depth=2, max_leaf_nodes=20, n_estimators=50;, score=0.750 total time=   0.0s\n",
      "[CV 3/5] END criterion=gini, max_depth=2, max_leaf_nodes=20, n_estimators=50;, score=0.750 total time=   0.0s\n",
      "[CV 4/5] END criterion=gini, max_depth=2, max_leaf_nodes=20, n_estimators=50;, score=0.750 total time=   0.0s\n",
      "[CV 5/5] END criterion=gini, max_depth=2, max_leaf_nodes=20, n_estimators=50;, score=0.750 total time=   0.0s\n"
     ]
    },
    {
     "name": "stdout",
     "output_type": "stream",
     "text": [
      "[CV 1/5] END criterion=gini, max_depth=2, max_leaf_nodes=20, n_estimators=100;, score=0.750 total time=   0.2s\n",
      "[CV 2/5] END criterion=gini, max_depth=2, max_leaf_nodes=20, n_estimators=100;, score=0.750 total time=   0.2s\n",
      "[CV 3/5] END criterion=gini, max_depth=2, max_leaf_nodes=20, n_estimators=100;, score=0.750 total time=   0.2s\n",
      "[CV 4/5] END criterion=gini, max_depth=2, max_leaf_nodes=20, n_estimators=100;, score=0.750 total time=   0.2s\n",
      "[CV 5/5] END criterion=gini, max_depth=2, max_leaf_nodes=20, n_estimators=100;, score=0.750 total time=   0.2s\n",
      "[CV 1/5] END criterion=gini, max_depth=5, max_leaf_nodes=2, n_estimators=10;, score=0.750 total time=   0.0s\n",
      "[CV 2/5] END criterion=gini, max_depth=5, max_leaf_nodes=2, n_estimators=10;, score=0.750 total time=   0.0s\n",
      "[CV 3/5] END criterion=gini, max_depth=5, max_leaf_nodes=2, n_estimators=10;, score=0.750 total time=   0.0s\n",
      "[CV 4/5] END criterion=gini, max_depth=5, max_leaf_nodes=2, n_estimators=10;, score=0.750 total time=   0.0s\n",
      "[CV 5/5] END criterion=gini, max_depth=5, max_leaf_nodes=2, n_estimators=10;, score=0.750 total time=   0.0s\n",
      "[CV 1/5] END criterion=gini, max_depth=5, max_leaf_nodes=2, n_estimators=25;, score=0.750 total time=   0.0s\n",
      "[CV 2/5] END criterion=gini, max_depth=5, max_leaf_nodes=2, n_estimators=25;, score=0.750 total time=   0.0s\n",
      "[CV 3/5] END criterion=gini, max_depth=5, max_leaf_nodes=2, n_estimators=25;, score=0.750 total time=   0.0s\n",
      "[CV 4/5] END criterion=gini, max_depth=5, max_leaf_nodes=2, n_estimators=25;, score=0.750 total time=   0.0s\n",
      "[CV 5/5] END criterion=gini, max_depth=5, max_leaf_nodes=2, n_estimators=25;, score=0.750 total time=   0.0s\n",
      "[CV 1/5] END criterion=gini, max_depth=5, max_leaf_nodes=2, n_estimators=50;, score=0.750 total time=   0.0s\n",
      "[CV 2/5] END criterion=gini, max_depth=5, max_leaf_nodes=2, n_estimators=50;, score=0.750 total time=   0.0s\n",
      "[CV 3/5] END criterion=gini, max_depth=5, max_leaf_nodes=2, n_estimators=50;, score=0.750 total time=   0.0s\n",
      "[CV 4/5] END criterion=gini, max_depth=5, max_leaf_nodes=2, n_estimators=50;, score=0.750 total time=   0.0s\n",
      "[CV 5/5] END criterion=gini, max_depth=5, max_leaf_nodes=2, n_estimators=50;, score=0.750 total time=   0.1s\n",
      "[CV 1/5] END criterion=gini, max_depth=5, max_leaf_nodes=2, n_estimators=100;, score=0.750 total time=   0.2s\n",
      "[CV 2/5] END criterion=gini, max_depth=5, max_leaf_nodes=2, n_estimators=100;, score=0.750 total time=   0.2s\n",
      "[CV 3/5] END criterion=gini, max_depth=5, max_leaf_nodes=2, n_estimators=100;, score=0.750 total time=   0.2s\n",
      "[CV 4/5] END criterion=gini, max_depth=5, max_leaf_nodes=2, n_estimators=100;, score=0.750 total time=   0.2s\n",
      "[CV 5/5] END criterion=gini, max_depth=5, max_leaf_nodes=2, n_estimators=100;, score=0.750 total time=   0.2s\n",
      "[CV 1/5] END criterion=gini, max_depth=5, max_leaf_nodes=5, n_estimators=10;, score=0.752 total time=   0.0s\n",
      "[CV 2/5] END criterion=gini, max_depth=5, max_leaf_nodes=5, n_estimators=10;, score=0.750 total time=   0.0s\n",
      "[CV 3/5] END criterion=gini, max_depth=5, max_leaf_nodes=5, n_estimators=10;, score=0.751 total time=   0.0s\n",
      "[CV 4/5] END criterion=gini, max_depth=5, max_leaf_nodes=5, n_estimators=10;, score=0.750 total time=   0.0s\n",
      "[CV 5/5] END criterion=gini, max_depth=5, max_leaf_nodes=5, n_estimators=10;, score=0.750 total time=   0.0s\n",
      "[CV 1/5] END criterion=gini, max_depth=5, max_leaf_nodes=5, n_estimators=25;, score=0.750 total time=   0.0s\n",
      "[CV 2/5] END criterion=gini, max_depth=5, max_leaf_nodes=5, n_estimators=25;, score=0.750 total time=   0.0s\n",
      "[CV 3/5] END criterion=gini, max_depth=5, max_leaf_nodes=5, n_estimators=25;, score=0.750 total time=   0.0s\n",
      "[CV 4/5] END criterion=gini, max_depth=5, max_leaf_nodes=5, n_estimators=25;, score=0.752 total time=   0.0s\n",
      "[CV 5/5] END criterion=gini, max_depth=5, max_leaf_nodes=5, n_estimators=25;, score=0.750 total time=   0.0s\n",
      "[CV 1/5] END criterion=gini, max_depth=5, max_leaf_nodes=5, n_estimators=50;, score=0.750 total time=   0.1s\n",
      "[CV 2/5] END criterion=gini, max_depth=5, max_leaf_nodes=5, n_estimators=50;, score=0.750 total time=   0.0s\n",
      "[CV 3/5] END criterion=gini, max_depth=5, max_leaf_nodes=5, n_estimators=50;, score=0.750 total time=   0.1s\n",
      "[CV 4/5] END criterion=gini, max_depth=5, max_leaf_nodes=5, n_estimators=50;, score=0.750 total time=   0.1s\n",
      "[CV 5/5] END criterion=gini, max_depth=5, max_leaf_nodes=5, n_estimators=50;, score=0.750 total time=   0.1s\n",
      "[CV 1/5] END criterion=gini, max_depth=5, max_leaf_nodes=5, n_estimators=100;, score=0.750 total time=   0.2s\n",
      "[CV 2/5] END criterion=gini, max_depth=5, max_leaf_nodes=5, n_estimators=100;, score=0.750 total time=   0.2s\n",
      "[CV 3/5] END criterion=gini, max_depth=5, max_leaf_nodes=5, n_estimators=100;, score=0.750 total time=   0.2s\n",
      "[CV 4/5] END criterion=gini, max_depth=5, max_leaf_nodes=5, n_estimators=100;, score=0.750 total time=   0.3s\n",
      "[CV 5/5] END criterion=gini, max_depth=5, max_leaf_nodes=5, n_estimators=100;, score=0.750 total time=   0.2s\n",
      "[CV 1/5] END criterion=gini, max_depth=5, max_leaf_nodes=10, n_estimators=10;, score=0.752 total time=   0.0s\n",
      "[CV 2/5] END criterion=gini, max_depth=5, max_leaf_nodes=10, n_estimators=10;, score=0.763 total time=   0.0s\n",
      "[CV 3/5] END criterion=gini, max_depth=5, max_leaf_nodes=10, n_estimators=10;, score=0.759 total time=   0.0s\n",
      "[CV 4/5] END criterion=gini, max_depth=5, max_leaf_nodes=10, n_estimators=10;, score=0.773 total time=   0.0s\n",
      "[CV 5/5] END criterion=gini, max_depth=5, max_leaf_nodes=10, n_estimators=10;, score=0.764 total time=   0.0s\n",
      "[CV 1/5] END criterion=gini, max_depth=5, max_leaf_nodes=10, n_estimators=25;, score=0.753 total time=   0.0s\n",
      "[CV 2/5] END criterion=gini, max_depth=5, max_leaf_nodes=10, n_estimators=25;, score=0.753 total time=   0.0s\n",
      "[CV 3/5] END criterion=gini, max_depth=5, max_leaf_nodes=10, n_estimators=25;, score=0.756 total time=   0.0s\n",
      "[CV 4/5] END criterion=gini, max_depth=5, max_leaf_nodes=10, n_estimators=25;, score=0.750 total time=   0.0s\n",
      "[CV 5/5] END criterion=gini, max_depth=5, max_leaf_nodes=10, n_estimators=25;, score=0.758 total time=   0.0s\n",
      "[CV 1/5] END criterion=gini, max_depth=5, max_leaf_nodes=10, n_estimators=50;, score=0.756 total time=   0.1s\n",
      "[CV 2/5] END criterion=gini, max_depth=5, max_leaf_nodes=10, n_estimators=50;, score=0.754 total time=   0.1s\n",
      "[CV 3/5] END criterion=gini, max_depth=5, max_leaf_nodes=10, n_estimators=50;, score=0.755 total time=   0.1s\n",
      "[CV 4/5] END criterion=gini, max_depth=5, max_leaf_nodes=10, n_estimators=50;, score=0.753 total time=   0.1s\n",
      "[CV 5/5] END criterion=gini, max_depth=5, max_leaf_nodes=10, n_estimators=50;, score=0.759 total time=   0.1s\n",
      "[CV 1/5] END criterion=gini, max_depth=5, max_leaf_nodes=10, n_estimators=100;, score=0.754 total time=   0.3s\n",
      "[CV 2/5] END criterion=gini, max_depth=5, max_leaf_nodes=10, n_estimators=100;, score=0.759 total time=   0.3s\n",
      "[CV 3/5] END criterion=gini, max_depth=5, max_leaf_nodes=10, n_estimators=100;, score=0.754 total time=   0.3s\n",
      "[CV 4/5] END criterion=gini, max_depth=5, max_leaf_nodes=10, n_estimators=100;, score=0.752 total time=   0.2s\n",
      "[CV 5/5] END criterion=gini, max_depth=5, max_leaf_nodes=10, n_estimators=100;, score=0.755 total time=   0.3s\n",
      "[CV 1/5] END criterion=gini, max_depth=5, max_leaf_nodes=20, n_estimators=10;, score=0.759 total time=   0.0s\n",
      "[CV 2/5] END criterion=gini, max_depth=5, max_leaf_nodes=20, n_estimators=10;, score=0.767 total time=   0.0s\n",
      "[CV 3/5] END criterion=gini, max_depth=5, max_leaf_nodes=20, n_estimators=10;, score=0.777 total time=   0.0s\n",
      "[CV 4/5] END criterion=gini, max_depth=5, max_leaf_nodes=20, n_estimators=10;, score=0.752 total time=   0.0s\n",
      "[CV 5/5] END criterion=gini, max_depth=5, max_leaf_nodes=20, n_estimators=10;, score=0.751 total time=   0.0s\n",
      "[CV 1/5] END criterion=gini, max_depth=5, max_leaf_nodes=20, n_estimators=25;, score=0.761 total time=   0.0s\n",
      "[CV 2/5] END criterion=gini, max_depth=5, max_leaf_nodes=20, n_estimators=25;, score=0.759 total time=   0.0s\n",
      "[CV 3/5] END criterion=gini, max_depth=5, max_leaf_nodes=20, n_estimators=25;, score=0.756 total time=   0.0s\n",
      "[CV 4/5] END criterion=gini, max_depth=5, max_leaf_nodes=20, n_estimators=25;, score=0.760 total time=   0.0s\n",
      "[CV 5/5] END criterion=gini, max_depth=5, max_leaf_nodes=20, n_estimators=25;, score=0.762 total time=   0.0s\n",
      "[CV 1/5] END criterion=gini, max_depth=5, max_leaf_nodes=20, n_estimators=50;, score=0.758 total time=   0.1s\n"
     ]
    },
    {
     "name": "stdout",
     "output_type": "stream",
     "text": [
      "[CV 2/5] END criterion=gini, max_depth=5, max_leaf_nodes=20, n_estimators=50;, score=0.762 total time=   0.1s\n",
      "[CV 3/5] END criterion=gini, max_depth=5, max_leaf_nodes=20, n_estimators=50;, score=0.762 total time=   0.1s\n",
      "[CV 4/5] END criterion=gini, max_depth=5, max_leaf_nodes=20, n_estimators=50;, score=0.754 total time=   0.1s\n",
      "[CV 5/5] END criterion=gini, max_depth=5, max_leaf_nodes=20, n_estimators=50;, score=0.757 total time=   0.1s\n",
      "[CV 1/5] END criterion=gini, max_depth=5, max_leaf_nodes=20, n_estimators=100;, score=0.757 total time=   0.3s\n",
      "[CV 2/5] END criterion=gini, max_depth=5, max_leaf_nodes=20, n_estimators=100;, score=0.755 total time=   0.3s\n",
      "[CV 3/5] END criterion=gini, max_depth=5, max_leaf_nodes=20, n_estimators=100;, score=0.756 total time=   0.4s\n",
      "[CV 4/5] END criterion=gini, max_depth=5, max_leaf_nodes=20, n_estimators=100;, score=0.756 total time=   0.3s\n",
      "[CV 5/5] END criterion=gini, max_depth=5, max_leaf_nodes=20, n_estimators=100;, score=0.760 total time=   0.3s\n",
      "[CV 1/5] END criterion=gini, max_depth=10, max_leaf_nodes=2, n_estimators=10;, score=0.750 total time=   0.0s\n",
      "[CV 2/5] END criterion=gini, max_depth=10, max_leaf_nodes=2, n_estimators=10;, score=0.750 total time=   0.0s\n",
      "[CV 3/5] END criterion=gini, max_depth=10, max_leaf_nodes=2, n_estimators=10;, score=0.750 total time=   0.0s\n",
      "[CV 4/5] END criterion=gini, max_depth=10, max_leaf_nodes=2, n_estimators=10;, score=0.750 total time=   0.0s\n",
      "[CV 5/5] END criterion=gini, max_depth=10, max_leaf_nodes=2, n_estimators=10;, score=0.750 total time=   0.0s\n",
      "[CV 1/5] END criterion=gini, max_depth=10, max_leaf_nodes=2, n_estimators=25;, score=0.750 total time=   0.0s\n",
      "[CV 2/5] END criterion=gini, max_depth=10, max_leaf_nodes=2, n_estimators=25;, score=0.750 total time=   0.0s\n",
      "[CV 3/5] END criterion=gini, max_depth=10, max_leaf_nodes=2, n_estimators=25;, score=0.750 total time=   0.0s\n",
      "[CV 4/5] END criterion=gini, max_depth=10, max_leaf_nodes=2, n_estimators=25;, score=0.750 total time=   0.0s\n",
      "[CV 5/5] END criterion=gini, max_depth=10, max_leaf_nodes=2, n_estimators=25;, score=0.750 total time=   0.0s\n",
      "[CV 1/5] END criterion=gini, max_depth=10, max_leaf_nodes=2, n_estimators=50;, score=0.750 total time=   0.0s\n",
      "[CV 2/5] END criterion=gini, max_depth=10, max_leaf_nodes=2, n_estimators=50;, score=0.750 total time=   0.0s\n",
      "[CV 3/5] END criterion=gini, max_depth=10, max_leaf_nodes=2, n_estimators=50;, score=0.750 total time=   0.1s\n",
      "[CV 4/5] END criterion=gini, max_depth=10, max_leaf_nodes=2, n_estimators=50;, score=0.750 total time=   0.0s\n",
      "[CV 5/5] END criterion=gini, max_depth=10, max_leaf_nodes=2, n_estimators=50;, score=0.750 total time=   0.0s\n",
      "[CV 1/5] END criterion=gini, max_depth=10, max_leaf_nodes=2, n_estimators=100;, score=0.750 total time=   0.2s\n",
      "[CV 2/5] END criterion=gini, max_depth=10, max_leaf_nodes=2, n_estimators=100;, score=0.750 total time=   0.2s\n",
      "[CV 3/5] END criterion=gini, max_depth=10, max_leaf_nodes=2, n_estimators=100;, score=0.750 total time=   0.2s\n",
      "[CV 4/5] END criterion=gini, max_depth=10, max_leaf_nodes=2, n_estimators=100;, score=0.750 total time=   0.2s\n",
      "[CV 5/5] END criterion=gini, max_depth=10, max_leaf_nodes=2, n_estimators=100;, score=0.750 total time=   0.2s\n",
      "[CV 1/5] END criterion=gini, max_depth=10, max_leaf_nodes=5, n_estimators=10;, score=0.751 total time=   0.0s\n",
      "[CV 2/5] END criterion=gini, max_depth=10, max_leaf_nodes=5, n_estimators=10;, score=0.750 total time=   0.0s\n",
      "[CV 3/5] END criterion=gini, max_depth=10, max_leaf_nodes=5, n_estimators=10;, score=0.754 total time=   0.0s\n",
      "[CV 4/5] END criterion=gini, max_depth=10, max_leaf_nodes=5, n_estimators=10;, score=0.750 total time=   0.0s\n",
      "[CV 5/5] END criterion=gini, max_depth=10, max_leaf_nodes=5, n_estimators=10;, score=0.750 total time=   0.0s\n",
      "[CV 1/5] END criterion=gini, max_depth=10, max_leaf_nodes=5, n_estimators=25;, score=0.758 total time=   0.0s\n",
      "[CV 2/5] END criterion=gini, max_depth=10, max_leaf_nodes=5, n_estimators=25;, score=0.750 total time=   0.0s\n",
      "[CV 3/5] END criterion=gini, max_depth=10, max_leaf_nodes=5, n_estimators=25;, score=0.751 total time=   0.0s\n",
      "[CV 4/5] END criterion=gini, max_depth=10, max_leaf_nodes=5, n_estimators=25;, score=0.750 total time=   0.0s\n",
      "[CV 5/5] END criterion=gini, max_depth=10, max_leaf_nodes=5, n_estimators=25;, score=0.750 total time=   0.0s\n",
      "[CV 1/5] END criterion=gini, max_depth=10, max_leaf_nodes=5, n_estimators=50;, score=0.750 total time=   0.1s\n",
      "[CV 2/5] END criterion=gini, max_depth=10, max_leaf_nodes=5, n_estimators=50;, score=0.750 total time=   0.1s\n",
      "[CV 3/5] END criterion=gini, max_depth=10, max_leaf_nodes=5, n_estimators=50;, score=0.750 total time=   0.1s\n",
      "[CV 4/5] END criterion=gini, max_depth=10, max_leaf_nodes=5, n_estimators=50;, score=0.750 total time=   0.1s\n",
      "[CV 5/5] END criterion=gini, max_depth=10, max_leaf_nodes=5, n_estimators=50;, score=0.750 total time=   0.1s\n",
      "[CV 1/5] END criterion=gini, max_depth=10, max_leaf_nodes=5, n_estimators=100;, score=0.750 total time=   0.2s\n",
      "[CV 2/5] END criterion=gini, max_depth=10, max_leaf_nodes=5, n_estimators=100;, score=0.750 total time=   0.2s\n",
      "[CV 3/5] END criterion=gini, max_depth=10, max_leaf_nodes=5, n_estimators=100;, score=0.750 total time=   0.2s\n",
      "[CV 4/5] END criterion=gini, max_depth=10, max_leaf_nodes=5, n_estimators=100;, score=0.750 total time=   0.2s\n",
      "[CV 5/5] END criterion=gini, max_depth=10, max_leaf_nodes=5, n_estimators=100;, score=0.750 total time=   0.2s\n",
      "[CV 1/5] END criterion=gini, max_depth=10, max_leaf_nodes=10, n_estimators=10;, score=0.758 total time=   0.0s\n",
      "[CV 2/5] END criterion=gini, max_depth=10, max_leaf_nodes=10, n_estimators=10;, score=0.755 total time=   0.0s\n",
      "[CV 3/5] END criterion=gini, max_depth=10, max_leaf_nodes=10, n_estimators=10;, score=0.763 total time=   0.0s\n",
      "[CV 4/5] END criterion=gini, max_depth=10, max_leaf_nodes=10, n_estimators=10;, score=0.754 total time=   0.0s\n",
      "[CV 5/5] END criterion=gini, max_depth=10, max_leaf_nodes=10, n_estimators=10;, score=0.761 total time=   0.0s\n",
      "[CV 1/5] END criterion=gini, max_depth=10, max_leaf_nodes=10, n_estimators=25;, score=0.754 total time=   0.0s\n",
      "[CV 2/5] END criterion=gini, max_depth=10, max_leaf_nodes=10, n_estimators=25;, score=0.756 total time=   0.0s\n",
      "[CV 3/5] END criterion=gini, max_depth=10, max_leaf_nodes=10, n_estimators=25;, score=0.755 total time=   0.0s\n",
      "[CV 4/5] END criterion=gini, max_depth=10, max_leaf_nodes=10, n_estimators=25;, score=0.756 total time=   0.0s\n",
      "[CV 5/5] END criterion=gini, max_depth=10, max_leaf_nodes=10, n_estimators=25;, score=0.755 total time=   0.0s\n",
      "[CV 1/5] END criterion=gini, max_depth=10, max_leaf_nodes=10, n_estimators=50;, score=0.753 total time=   0.1s\n",
      "[CV 2/5] END criterion=gini, max_depth=10, max_leaf_nodes=10, n_estimators=50;, score=0.756 total time=   0.1s\n",
      "[CV 3/5] END criterion=gini, max_depth=10, max_leaf_nodes=10, n_estimators=50;, score=0.755 total time=   0.1s\n",
      "[CV 4/5] END criterion=gini, max_depth=10, max_leaf_nodes=10, n_estimators=50;, score=0.752 total time=   0.1s\n",
      "[CV 5/5] END criterion=gini, max_depth=10, max_leaf_nodes=10, n_estimators=50;, score=0.755 total time=   0.1s\n",
      "[CV 1/5] END criterion=gini, max_depth=10, max_leaf_nodes=10, n_estimators=100;, score=0.756 total time=   0.3s\n",
      "[CV 2/5] END criterion=gini, max_depth=10, max_leaf_nodes=10, n_estimators=100;, score=0.758 total time=   0.3s\n",
      "[CV 3/5] END criterion=gini, max_depth=10, max_leaf_nodes=10, n_estimators=100;, score=0.754 total time=   0.3s\n",
      "[CV 4/5] END criterion=gini, max_depth=10, max_leaf_nodes=10, n_estimators=100;, score=0.754 total time=   0.2s\n",
      "[CV 5/5] END criterion=gini, max_depth=10, max_leaf_nodes=10, n_estimators=100;, score=0.758 total time=   0.3s\n",
      "[CV 1/5] END criterion=gini, max_depth=10, max_leaf_nodes=20, n_estimators=10;, score=0.760 total time=   0.0s\n",
      "[CV 2/5] END criterion=gini, max_depth=10, max_leaf_nodes=20, n_estimators=10;, score=0.760 total time=   0.0s\n",
      "[CV 3/5] END criterion=gini, max_depth=10, max_leaf_nodes=20, n_estimators=10;, score=0.760 total time=   0.0s\n",
      "[CV 4/5] END criterion=gini, max_depth=10, max_leaf_nodes=20, n_estimators=10;, score=0.759 total time=   0.0s\n",
      "[CV 5/5] END criterion=gini, max_depth=10, max_leaf_nodes=20, n_estimators=10;, score=0.773 total time=   0.0s\n",
      "[CV 1/5] END criterion=gini, max_depth=10, max_leaf_nodes=20, n_estimators=25;, score=0.760 total time=   0.0s\n"
     ]
    },
    {
     "name": "stdout",
     "output_type": "stream",
     "text": [
      "[CV 2/5] END criterion=gini, max_depth=10, max_leaf_nodes=20, n_estimators=25;, score=0.755 total time=   0.0s\n",
      "[CV 3/5] END criterion=gini, max_depth=10, max_leaf_nodes=20, n_estimators=25;, score=0.756 total time=   0.0s\n",
      "[CV 4/5] END criterion=gini, max_depth=10, max_leaf_nodes=20, n_estimators=25;, score=0.756 total time=   0.0s\n",
      "[CV 5/5] END criterion=gini, max_depth=10, max_leaf_nodes=20, n_estimators=25;, score=0.764 total time=   0.0s\n",
      "[CV 1/5] END criterion=gini, max_depth=10, max_leaf_nodes=20, n_estimators=50;, score=0.759 total time=   0.1s\n",
      "[CV 2/5] END criterion=gini, max_depth=10, max_leaf_nodes=20, n_estimators=50;, score=0.758 total time=   0.1s\n",
      "[CV 3/5] END criterion=gini, max_depth=10, max_leaf_nodes=20, n_estimators=50;, score=0.758 total time=   0.1s\n",
      "[CV 4/5] END criterion=gini, max_depth=10, max_leaf_nodes=20, n_estimators=50;, score=0.755 total time=   0.1s\n",
      "[CV 5/5] END criterion=gini, max_depth=10, max_leaf_nodes=20, n_estimators=50;, score=0.763 total time=   0.1s\n",
      "[CV 1/5] END criterion=gini, max_depth=10, max_leaf_nodes=20, n_estimators=100;, score=0.759 total time=   0.3s\n",
      "[CV 2/5] END criterion=gini, max_depth=10, max_leaf_nodes=20, n_estimators=100;, score=0.759 total time=   0.3s\n",
      "[CV 3/5] END criterion=gini, max_depth=10, max_leaf_nodes=20, n_estimators=100;, score=0.756 total time=   0.3s\n",
      "[CV 4/5] END criterion=gini, max_depth=10, max_leaf_nodes=20, n_estimators=100;, score=0.758 total time=   0.3s\n",
      "[CV 5/5] END criterion=gini, max_depth=10, max_leaf_nodes=20, n_estimators=100;, score=0.762 total time=   0.3s\n",
      "[CV 1/5] END criterion=gini, max_depth=20, max_leaf_nodes=2, n_estimators=10;, score=0.750 total time=   0.0s\n",
      "[CV 2/5] END criterion=gini, max_depth=20, max_leaf_nodes=2, n_estimators=10;, score=0.750 total time=   0.0s\n",
      "[CV 3/5] END criterion=gini, max_depth=20, max_leaf_nodes=2, n_estimators=10;, score=0.750 total time=   0.0s\n",
      "[CV 4/5] END criterion=gini, max_depth=20, max_leaf_nodes=2, n_estimators=10;, score=0.750 total time=   0.0s\n",
      "[CV 5/5] END criterion=gini, max_depth=20, max_leaf_nodes=2, n_estimators=10;, score=0.750 total time=   0.0s\n",
      "[CV 1/5] END criterion=gini, max_depth=20, max_leaf_nodes=2, n_estimators=25;, score=0.750 total time=   0.0s\n",
      "[CV 2/5] END criterion=gini, max_depth=20, max_leaf_nodes=2, n_estimators=25;, score=0.750 total time=   0.0s\n",
      "[CV 3/5] END criterion=gini, max_depth=20, max_leaf_nodes=2, n_estimators=25;, score=0.750 total time=   0.0s\n",
      "[CV 4/5] END criterion=gini, max_depth=20, max_leaf_nodes=2, n_estimators=25;, score=0.750 total time=   0.0s\n",
      "[CV 5/5] END criterion=gini, max_depth=20, max_leaf_nodes=2, n_estimators=25;, score=0.750 total time=   0.0s\n",
      "[CV 1/5] END criterion=gini, max_depth=20, max_leaf_nodes=2, n_estimators=50;, score=0.750 total time=   0.0s\n",
      "[CV 2/5] END criterion=gini, max_depth=20, max_leaf_nodes=2, n_estimators=50;, score=0.750 total time=   0.0s\n",
      "[CV 3/5] END criterion=gini, max_depth=20, max_leaf_nodes=2, n_estimators=50;, score=0.750 total time=   0.0s\n",
      "[CV 4/5] END criterion=gini, max_depth=20, max_leaf_nodes=2, n_estimators=50;, score=0.750 total time=   0.0s\n",
      "[CV 5/5] END criterion=gini, max_depth=20, max_leaf_nodes=2, n_estimators=50;, score=0.750 total time=   0.0s\n",
      "[CV 1/5] END criterion=gini, max_depth=20, max_leaf_nodes=2, n_estimators=100;, score=0.750 total time=   0.2s\n",
      "[CV 2/5] END criterion=gini, max_depth=20, max_leaf_nodes=2, n_estimators=100;, score=0.750 total time=   0.2s\n",
      "[CV 3/5] END criterion=gini, max_depth=20, max_leaf_nodes=2, n_estimators=100;, score=0.750 total time=   0.2s\n",
      "[CV 4/5] END criterion=gini, max_depth=20, max_leaf_nodes=2, n_estimators=100;, score=0.750 total time=   0.2s\n",
      "[CV 5/5] END criterion=gini, max_depth=20, max_leaf_nodes=2, n_estimators=100;, score=0.750 total time=   0.2s\n",
      "[CV 1/5] END criterion=gini, max_depth=20, max_leaf_nodes=5, n_estimators=10;, score=0.751 total time=   0.0s\n",
      "[CV 2/5] END criterion=gini, max_depth=20, max_leaf_nodes=5, n_estimators=10;, score=0.750 total time=   0.0s\n",
      "[CV 3/5] END criterion=gini, max_depth=20, max_leaf_nodes=5, n_estimators=10;, score=0.750 total time=   0.0s\n",
      "[CV 4/5] END criterion=gini, max_depth=20, max_leaf_nodes=5, n_estimators=10;, score=0.751 total time=   0.0s\n",
      "[CV 5/5] END criterion=gini, max_depth=20, max_leaf_nodes=5, n_estimators=10;, score=0.773 total time=   0.0s\n",
      "[CV 1/5] END criterion=gini, max_depth=20, max_leaf_nodes=5, n_estimators=25;, score=0.750 total time=   0.0s\n",
      "[CV 2/5] END criterion=gini, max_depth=20, max_leaf_nodes=5, n_estimators=25;, score=0.751 total time=   0.0s\n",
      "[CV 3/5] END criterion=gini, max_depth=20, max_leaf_nodes=5, n_estimators=25;, score=0.750 total time=   0.0s\n",
      "[CV 4/5] END criterion=gini, max_depth=20, max_leaf_nodes=5, n_estimators=25;, score=0.750 total time=   0.0s\n",
      "[CV 5/5] END criterion=gini, max_depth=20, max_leaf_nodes=5, n_estimators=25;, score=0.750 total time=   0.0s\n",
      "[CV 1/5] END criterion=gini, max_depth=20, max_leaf_nodes=5, n_estimators=50;, score=0.750 total time=   0.1s\n",
      "[CV 2/5] END criterion=gini, max_depth=20, max_leaf_nodes=5, n_estimators=50;, score=0.750 total time=   0.1s\n",
      "[CV 3/5] END criterion=gini, max_depth=20, max_leaf_nodes=5, n_estimators=50;, score=0.750 total time=   0.1s\n",
      "[CV 4/5] END criterion=gini, max_depth=20, max_leaf_nodes=5, n_estimators=50;, score=0.750 total time=   0.1s\n",
      "[CV 5/5] END criterion=gini, max_depth=20, max_leaf_nodes=5, n_estimators=50;, score=0.750 total time=   0.1s\n",
      "[CV 1/5] END criterion=gini, max_depth=20, max_leaf_nodes=5, n_estimators=100;, score=0.750 total time=   0.2s\n",
      "[CV 2/5] END criterion=gini, max_depth=20, max_leaf_nodes=5, n_estimators=100;, score=0.750 total time=   0.3s\n",
      "[CV 3/5] END criterion=gini, max_depth=20, max_leaf_nodes=5, n_estimators=100;, score=0.750 total time=   0.3s\n",
      "[CV 4/5] END criterion=gini, max_depth=20, max_leaf_nodes=5, n_estimators=100;, score=0.750 total time=   0.3s\n",
      "[CV 5/5] END criterion=gini, max_depth=20, max_leaf_nodes=5, n_estimators=100;, score=0.750 total time=   0.3s\n",
      "[CV 1/5] END criterion=gini, max_depth=20, max_leaf_nodes=10, n_estimators=10;, score=0.759 total time=   0.0s\n",
      "[CV 2/5] END criterion=gini, max_depth=20, max_leaf_nodes=10, n_estimators=10;, score=0.764 total time=   0.0s\n",
      "[CV 3/5] END criterion=gini, max_depth=20, max_leaf_nodes=10, n_estimators=10;, score=0.754 total time=   0.0s\n",
      "[CV 4/5] END criterion=gini, max_depth=20, max_leaf_nodes=10, n_estimators=10;, score=0.754 total time=   0.0s\n",
      "[CV 5/5] END criterion=gini, max_depth=20, max_leaf_nodes=10, n_estimators=10;, score=0.755 total time=   0.0s\n",
      "[CV 1/5] END criterion=gini, max_depth=20, max_leaf_nodes=10, n_estimators=25;, score=0.759 total time=   0.0s\n",
      "[CV 2/5] END criterion=gini, max_depth=20, max_leaf_nodes=10, n_estimators=25;, score=0.756 total time=   0.0s\n",
      "[CV 3/5] END criterion=gini, max_depth=20, max_leaf_nodes=10, n_estimators=25;, score=0.757 total time=   0.0s\n",
      "[CV 4/5] END criterion=gini, max_depth=20, max_leaf_nodes=10, n_estimators=25;, score=0.758 total time=   0.0s\n",
      "[CV 5/5] END criterion=gini, max_depth=20, max_leaf_nodes=10, n_estimators=25;, score=0.760 total time=   0.0s\n",
      "[CV 1/5] END criterion=gini, max_depth=20, max_leaf_nodes=10, n_estimators=50;, score=0.753 total time=   0.1s\n",
      "[CV 2/5] END criterion=gini, max_depth=20, max_leaf_nodes=10, n_estimators=50;, score=0.754 total time=   0.1s\n",
      "[CV 3/5] END criterion=gini, max_depth=20, max_leaf_nodes=10, n_estimators=50;, score=0.754 total time=   0.1s\n",
      "[CV 4/5] END criterion=gini, max_depth=20, max_leaf_nodes=10, n_estimators=50;, score=0.753 total time=   0.1s\n",
      "[CV 5/5] END criterion=gini, max_depth=20, max_leaf_nodes=10, n_estimators=50;, score=0.756 total time=   0.1s\n",
      "[CV 1/5] END criterion=gini, max_depth=20, max_leaf_nodes=10, n_estimators=100;, score=0.754 total time=   0.3s\n",
      "[CV 2/5] END criterion=gini, max_depth=20, max_leaf_nodes=10, n_estimators=100;, score=0.754 total time=   0.3s\n",
      "[CV 3/5] END criterion=gini, max_depth=20, max_leaf_nodes=10, n_estimators=100;, score=0.755 total time=   0.3s\n",
      "[CV 4/5] END criterion=gini, max_depth=20, max_leaf_nodes=10, n_estimators=100;, score=0.754 total time=   0.3s\n",
      "[CV 5/5] END criterion=gini, max_depth=20, max_leaf_nodes=10, n_estimators=100;, score=0.758 total time=   0.4s\n",
      "[CV 1/5] END criterion=gini, max_depth=20, max_leaf_nodes=20, n_estimators=10;, score=0.767 total time=   0.0s\n",
      "[CV 2/5] END criterion=gini, max_depth=20, max_leaf_nodes=20, n_estimators=10;, score=0.762 total time=   0.0s\n",
      "[CV 3/5] END criterion=gini, max_depth=20, max_leaf_nodes=20, n_estimators=10;, score=0.756 total time=   0.0s\n"
     ]
    },
    {
     "name": "stdout",
     "output_type": "stream",
     "text": [
      "[CV 4/5] END criterion=gini, max_depth=20, max_leaf_nodes=20, n_estimators=10;, score=0.773 total time=   0.0s\n",
      "[CV 5/5] END criterion=gini, max_depth=20, max_leaf_nodes=20, n_estimators=10;, score=0.760 total time=   0.0s\n",
      "[CV 1/5] END criterion=gini, max_depth=20, max_leaf_nodes=20, n_estimators=25;, score=0.758 total time=   0.0s\n",
      "[CV 2/5] END criterion=gini, max_depth=20, max_leaf_nodes=20, n_estimators=25;, score=0.762 total time=   0.0s\n",
      "[CV 3/5] END criterion=gini, max_depth=20, max_leaf_nodes=20, n_estimators=25;, score=0.761 total time=   0.0s\n",
      "[CV 4/5] END criterion=gini, max_depth=20, max_leaf_nodes=20, n_estimators=25;, score=0.756 total time=   0.0s\n",
      "[CV 5/5] END criterion=gini, max_depth=20, max_leaf_nodes=20, n_estimators=25;, score=0.762 total time=   0.0s\n",
      "[CV 1/5] END criterion=gini, max_depth=20, max_leaf_nodes=20, n_estimators=50;, score=0.757 total time=   0.1s\n",
      "[CV 2/5] END criterion=gini, max_depth=20, max_leaf_nodes=20, n_estimators=50;, score=0.759 total time=   0.1s\n",
      "[CV 3/5] END criterion=gini, max_depth=20, max_leaf_nodes=20, n_estimators=50;, score=0.751 total time=   0.1s\n",
      "[CV 4/5] END criterion=gini, max_depth=20, max_leaf_nodes=20, n_estimators=50;, score=0.756 total time=   0.1s\n",
      "[CV 5/5] END criterion=gini, max_depth=20, max_leaf_nodes=20, n_estimators=50;, score=0.760 total time=   0.2s\n",
      "[CV 1/5] END criterion=gini, max_depth=20, max_leaf_nodes=20, n_estimators=100;, score=0.758 total time=   0.4s\n",
      "[CV 2/5] END criterion=gini, max_depth=20, max_leaf_nodes=20, n_estimators=100;, score=0.759 total time=   0.4s\n",
      "[CV 3/5] END criterion=gini, max_depth=20, max_leaf_nodes=20, n_estimators=100;, score=0.756 total time=   0.4s\n",
      "[CV 4/5] END criterion=gini, max_depth=20, max_leaf_nodes=20, n_estimators=100;, score=0.756 total time=   0.4s\n",
      "[CV 5/5] END criterion=gini, max_depth=20, max_leaf_nodes=20, n_estimators=100;, score=0.761 total time=   0.4s\n",
      "[CV 1/5] END criterion=entropy, max_depth=2, max_leaf_nodes=2, n_estimators=10;, score=0.750 total time=   0.0s\n",
      "[CV 2/5] END criterion=entropy, max_depth=2, max_leaf_nodes=2, n_estimators=10;, score=0.750 total time=   0.0s\n",
      "[CV 3/5] END criterion=entropy, max_depth=2, max_leaf_nodes=2, n_estimators=10;, score=0.750 total time=   0.0s\n",
      "[CV 4/5] END criterion=entropy, max_depth=2, max_leaf_nodes=2, n_estimators=10;, score=0.750 total time=   0.0s\n",
      "[CV 5/5] END criterion=entropy, max_depth=2, max_leaf_nodes=2, n_estimators=10;, score=0.750 total time=   0.0s\n",
      "[CV 1/5] END criterion=entropy, max_depth=2, max_leaf_nodes=2, n_estimators=25;, score=0.750 total time=   0.0s\n",
      "[CV 2/5] END criterion=entropy, max_depth=2, max_leaf_nodes=2, n_estimators=25;, score=0.750 total time=   0.0s\n",
      "[CV 3/5] END criterion=entropy, max_depth=2, max_leaf_nodes=2, n_estimators=25;, score=0.750 total time=   0.0s\n",
      "[CV 4/5] END criterion=entropy, max_depth=2, max_leaf_nodes=2, n_estimators=25;, score=0.750 total time=   0.0s\n",
      "[CV 5/5] END criterion=entropy, max_depth=2, max_leaf_nodes=2, n_estimators=25;, score=0.750 total time=   0.0s\n",
      "[CV 1/5] END criterion=entropy, max_depth=2, max_leaf_nodes=2, n_estimators=50;, score=0.750 total time=   0.1s\n",
      "[CV 2/5] END criterion=entropy, max_depth=2, max_leaf_nodes=2, n_estimators=50;, score=0.750 total time=   0.1s\n",
      "[CV 3/5] END criterion=entropy, max_depth=2, max_leaf_nodes=2, n_estimators=50;, score=0.750 total time=   0.1s\n",
      "[CV 4/5] END criterion=entropy, max_depth=2, max_leaf_nodes=2, n_estimators=50;, score=0.750 total time=   0.1s\n",
      "[CV 5/5] END criterion=entropy, max_depth=2, max_leaf_nodes=2, n_estimators=50;, score=0.750 total time=   0.0s\n",
      "[CV 1/5] END criterion=entropy, max_depth=2, max_leaf_nodes=2, n_estimators=100;, score=0.750 total time=   0.2s\n",
      "[CV 2/5] END criterion=entropy, max_depth=2, max_leaf_nodes=2, n_estimators=100;, score=0.750 total time=   0.2s\n",
      "[CV 3/5] END criterion=entropy, max_depth=2, max_leaf_nodes=2, n_estimators=100;, score=0.750 total time=   0.2s\n",
      "[CV 4/5] END criterion=entropy, max_depth=2, max_leaf_nodes=2, n_estimators=100;, score=0.750 total time=   0.2s\n",
      "[CV 5/5] END criterion=entropy, max_depth=2, max_leaf_nodes=2, n_estimators=100;, score=0.750 total time=   0.2s\n",
      "[CV 1/5] END criterion=entropy, max_depth=2, max_leaf_nodes=5, n_estimators=10;, score=0.750 total time=   0.0s\n",
      "[CV 2/5] END criterion=entropy, max_depth=2, max_leaf_nodes=5, n_estimators=10;, score=0.750 total time=   0.0s\n",
      "[CV 3/5] END criterion=entropy, max_depth=2, max_leaf_nodes=5, n_estimators=10;, score=0.750 total time=   0.0s\n",
      "[CV 4/5] END criterion=entropy, max_depth=2, max_leaf_nodes=5, n_estimators=10;, score=0.750 total time=   0.0s\n",
      "[CV 5/5] END criterion=entropy, max_depth=2, max_leaf_nodes=5, n_estimators=10;, score=0.750 total time=   0.0s\n",
      "[CV 1/5] END criterion=entropy, max_depth=2, max_leaf_nodes=5, n_estimators=25;, score=0.750 total time=   0.0s\n",
      "[CV 2/5] END criterion=entropy, max_depth=2, max_leaf_nodes=5, n_estimators=25;, score=0.750 total time=   0.0s\n",
      "[CV 3/5] END criterion=entropy, max_depth=2, max_leaf_nodes=5, n_estimators=25;, score=0.750 total time=   0.0s\n",
      "[CV 4/5] END criterion=entropy, max_depth=2, max_leaf_nodes=5, n_estimators=25;, score=0.750 total time=   0.0s\n",
      "[CV 5/5] END criterion=entropy, max_depth=2, max_leaf_nodes=5, n_estimators=25;, score=0.750 total time=   0.0s\n",
      "[CV 1/5] END criterion=entropy, max_depth=2, max_leaf_nodes=5, n_estimators=50;, score=0.750 total time=   0.1s\n",
      "[CV 2/5] END criterion=entropy, max_depth=2, max_leaf_nodes=5, n_estimators=50;, score=0.750 total time=   0.1s\n",
      "[CV 3/5] END criterion=entropy, max_depth=2, max_leaf_nodes=5, n_estimators=50;, score=0.750 total time=   0.1s\n",
      "[CV 4/5] END criterion=entropy, max_depth=2, max_leaf_nodes=5, n_estimators=50;, score=0.750 total time=   0.0s\n",
      "[CV 5/5] END criterion=entropy, max_depth=2, max_leaf_nodes=5, n_estimators=50;, score=0.750 total time=   0.0s\n",
      "[CV 1/5] END criterion=entropy, max_depth=2, max_leaf_nodes=5, n_estimators=100;, score=0.750 total time=   0.2s\n",
      "[CV 2/5] END criterion=entropy, max_depth=2, max_leaf_nodes=5, n_estimators=100;, score=0.750 total time=   0.2s\n",
      "[CV 3/5] END criterion=entropy, max_depth=2, max_leaf_nodes=5, n_estimators=100;, score=0.750 total time=   0.2s\n",
      "[CV 4/5] END criterion=entropy, max_depth=2, max_leaf_nodes=5, n_estimators=100;, score=0.750 total time=   0.2s\n",
      "[CV 5/5] END criterion=entropy, max_depth=2, max_leaf_nodes=5, n_estimators=100;, score=0.750 total time=   0.2s\n",
      "[CV 1/5] END criterion=entropy, max_depth=2, max_leaf_nodes=10, n_estimators=10;, score=0.751 total time=   0.0s\n",
      "[CV 2/5] END criterion=entropy, max_depth=2, max_leaf_nodes=10, n_estimators=10;, score=0.756 total time=   0.0s\n",
      "[CV 3/5] END criterion=entropy, max_depth=2, max_leaf_nodes=10, n_estimators=10;, score=0.750 total time=   0.0s\n",
      "[CV 4/5] END criterion=entropy, max_depth=2, max_leaf_nodes=10, n_estimators=10;, score=0.750 total time=   0.0s\n",
      "[CV 5/5] END criterion=entropy, max_depth=2, max_leaf_nodes=10, n_estimators=10;, score=0.750 total time=   0.0s\n",
      "[CV 1/5] END criterion=entropy, max_depth=2, max_leaf_nodes=10, n_estimators=25;, score=0.750 total time=   0.0s\n",
      "[CV 2/5] END criterion=entropy, max_depth=2, max_leaf_nodes=10, n_estimators=25;, score=0.750 total time=   0.0s\n",
      "[CV 3/5] END criterion=entropy, max_depth=2, max_leaf_nodes=10, n_estimators=25;, score=0.750 total time=   0.0s\n",
      "[CV 4/5] END criterion=entropy, max_depth=2, max_leaf_nodes=10, n_estimators=25;, score=0.750 total time=   0.0s\n",
      "[CV 5/5] END criterion=entropy, max_depth=2, max_leaf_nodes=10, n_estimators=25;, score=0.750 total time=   0.0s\n",
      "[CV 1/5] END criterion=entropy, max_depth=2, max_leaf_nodes=10, n_estimators=50;, score=0.750 total time=   0.1s\n",
      "[CV 2/5] END criterion=entropy, max_depth=2, max_leaf_nodes=10, n_estimators=50;, score=0.750 total time=   0.0s\n",
      "[CV 3/5] END criterion=entropy, max_depth=2, max_leaf_nodes=10, n_estimators=50;, score=0.750 total time=   0.1s\n",
      "[CV 4/5] END criterion=entropy, max_depth=2, max_leaf_nodes=10, n_estimators=50;, score=0.750 total time=   0.0s\n",
      "[CV 5/5] END criterion=entropy, max_depth=2, max_leaf_nodes=10, n_estimators=50;, score=0.750 total time=   0.0s\n",
      "[CV 1/5] END criterion=entropy, max_depth=2, max_leaf_nodes=10, n_estimators=100;, score=0.750 total time=   0.2s\n",
      "[CV 2/5] END criterion=entropy, max_depth=2, max_leaf_nodes=10, n_estimators=100;, score=0.750 total time=   0.2s\n"
     ]
    },
    {
     "name": "stdout",
     "output_type": "stream",
     "text": [
      "[CV 3/5] END criterion=entropy, max_depth=2, max_leaf_nodes=10, n_estimators=100;, score=0.750 total time=   0.2s\n",
      "[CV 4/5] END criterion=entropy, max_depth=2, max_leaf_nodes=10, n_estimators=100;, score=0.750 total time=   0.2s\n",
      "[CV 5/5] END criterion=entropy, max_depth=2, max_leaf_nodes=10, n_estimators=100;, score=0.750 total time=   0.2s\n",
      "[CV 1/5] END criterion=entropy, max_depth=2, max_leaf_nodes=20, n_estimators=10;, score=0.750 total time=   0.0s\n",
      "[CV 2/5] END criterion=entropy, max_depth=2, max_leaf_nodes=20, n_estimators=10;, score=0.750 total time=   0.0s\n",
      "[CV 3/5] END criterion=entropy, max_depth=2, max_leaf_nodes=20, n_estimators=10;, score=0.750 total time=   0.0s\n",
      "[CV 4/5] END criterion=entropy, max_depth=2, max_leaf_nodes=20, n_estimators=10;, score=0.750 total time=   0.0s\n",
      "[CV 5/5] END criterion=entropy, max_depth=2, max_leaf_nodes=20, n_estimators=10;, score=0.750 total time=   0.0s\n",
      "[CV 1/5] END criterion=entropy, max_depth=2, max_leaf_nodes=20, n_estimators=25;, score=0.750 total time=   0.0s\n",
      "[CV 2/5] END criterion=entropy, max_depth=2, max_leaf_nodes=20, n_estimators=25;, score=0.750 total time=   0.0s\n",
      "[CV 3/5] END criterion=entropy, max_depth=2, max_leaf_nodes=20, n_estimators=25;, score=0.750 total time=   0.0s\n",
      "[CV 4/5] END criterion=entropy, max_depth=2, max_leaf_nodes=20, n_estimators=25;, score=0.750 total time=   0.0s\n",
      "[CV 5/5] END criterion=entropy, max_depth=2, max_leaf_nodes=20, n_estimators=25;, score=0.750 total time=   0.0s\n",
      "[CV 1/5] END criterion=entropy, max_depth=2, max_leaf_nodes=20, n_estimators=50;, score=0.750 total time=   0.1s\n",
      "[CV 2/5] END criterion=entropy, max_depth=2, max_leaf_nodes=20, n_estimators=50;, score=0.750 total time=   0.1s\n",
      "[CV 3/5] END criterion=entropy, max_depth=2, max_leaf_nodes=20, n_estimators=50;, score=0.750 total time=   0.1s\n",
      "[CV 4/5] END criterion=entropy, max_depth=2, max_leaf_nodes=20, n_estimators=50;, score=0.750 total time=   0.1s\n",
      "[CV 5/5] END criterion=entropy, max_depth=2, max_leaf_nodes=20, n_estimators=50;, score=0.750 total time=   0.1s\n",
      "[CV 1/5] END criterion=entropy, max_depth=2, max_leaf_nodes=20, n_estimators=100;, score=0.750 total time=   0.2s\n",
      "[CV 2/5] END criterion=entropy, max_depth=2, max_leaf_nodes=20, n_estimators=100;, score=0.750 total time=   0.2s\n",
      "[CV 3/5] END criterion=entropy, max_depth=2, max_leaf_nodes=20, n_estimators=100;, score=0.750 total time=   0.2s\n",
      "[CV 4/5] END criterion=entropy, max_depth=2, max_leaf_nodes=20, n_estimators=100;, score=0.750 total time=   0.2s\n",
      "[CV 5/5] END criterion=entropy, max_depth=2, max_leaf_nodes=20, n_estimators=100;, score=0.750 total time=   0.2s\n",
      "[CV 1/5] END criterion=entropy, max_depth=5, max_leaf_nodes=2, n_estimators=10;, score=0.750 total time=   0.0s\n",
      "[CV 2/5] END criterion=entropy, max_depth=5, max_leaf_nodes=2, n_estimators=10;, score=0.750 total time=   0.0s\n",
      "[CV 3/5] END criterion=entropy, max_depth=5, max_leaf_nodes=2, n_estimators=10;, score=0.750 total time=   0.0s\n",
      "[CV 4/5] END criterion=entropy, max_depth=5, max_leaf_nodes=2, n_estimators=10;, score=0.750 total time=   0.0s\n",
      "[CV 5/5] END criterion=entropy, max_depth=5, max_leaf_nodes=2, n_estimators=10;, score=0.750 total time=   0.0s\n",
      "[CV 1/5] END criterion=entropy, max_depth=5, max_leaf_nodes=2, n_estimators=25;, score=0.750 total time=   0.0s\n",
      "[CV 2/5] END criterion=entropy, max_depth=5, max_leaf_nodes=2, n_estimators=25;, score=0.750 total time=   0.0s\n",
      "[CV 3/5] END criterion=entropy, max_depth=5, max_leaf_nodes=2, n_estimators=25;, score=0.750 total time=   0.0s\n",
      "[CV 4/5] END criterion=entropy, max_depth=5, max_leaf_nodes=2, n_estimators=25;, score=0.750 total time=   0.0s\n",
      "[CV 5/5] END criterion=entropy, max_depth=5, max_leaf_nodes=2, n_estimators=25;, score=0.750 total time=   0.0s\n",
      "[CV 1/5] END criterion=entropy, max_depth=5, max_leaf_nodes=2, n_estimators=50;, score=0.750 total time=   0.1s\n",
      "[CV 2/5] END criterion=entropy, max_depth=5, max_leaf_nodes=2, n_estimators=50;, score=0.750 total time=   0.1s\n",
      "[CV 3/5] END criterion=entropy, max_depth=5, max_leaf_nodes=2, n_estimators=50;, score=0.750 total time=   0.1s\n",
      "[CV 4/5] END criterion=entropy, max_depth=5, max_leaf_nodes=2, n_estimators=50;, score=0.750 total time=   0.1s\n",
      "[CV 5/5] END criterion=entropy, max_depth=5, max_leaf_nodes=2, n_estimators=50;, score=0.750 total time=   0.1s\n",
      "[CV 1/5] END criterion=entropy, max_depth=5, max_leaf_nodes=2, n_estimators=100;, score=0.750 total time=   0.2s\n",
      "[CV 2/5] END criterion=entropy, max_depth=5, max_leaf_nodes=2, n_estimators=100;, score=0.750 total time=   0.2s\n",
      "[CV 3/5] END criterion=entropy, max_depth=5, max_leaf_nodes=2, n_estimators=100;, score=0.750 total time=   0.2s\n",
      "[CV 4/5] END criterion=entropy, max_depth=5, max_leaf_nodes=2, n_estimators=100;, score=0.750 total time=   0.2s\n",
      "[CV 5/5] END criterion=entropy, max_depth=5, max_leaf_nodes=2, n_estimators=100;, score=0.750 total time=   0.2s\n",
      "[CV 1/5] END criterion=entropy, max_depth=5, max_leaf_nodes=5, n_estimators=10;, score=0.753 total time=   0.0s\n",
      "[CV 2/5] END criterion=entropy, max_depth=5, max_leaf_nodes=5, n_estimators=10;, score=0.750 total time=   0.0s\n",
      "[CV 3/5] END criterion=entropy, max_depth=5, max_leaf_nodes=5, n_estimators=10;, score=0.755 total time=   0.0s\n",
      "[CV 4/5] END criterion=entropy, max_depth=5, max_leaf_nodes=5, n_estimators=10;, score=0.750 total time=   0.0s\n",
      "[CV 5/5] END criterion=entropy, max_depth=5, max_leaf_nodes=5, n_estimators=10;, score=0.751 total time=   0.0s\n",
      "[CV 1/5] END criterion=entropy, max_depth=5, max_leaf_nodes=5, n_estimators=25;, score=0.750 total time=   0.0s\n",
      "[CV 2/5] END criterion=entropy, max_depth=5, max_leaf_nodes=5, n_estimators=25;, score=0.750 total time=   0.0s\n",
      "[CV 3/5] END criterion=entropy, max_depth=5, max_leaf_nodes=5, n_estimators=25;, score=0.751 total time=   0.0s\n",
      "[CV 4/5] END criterion=entropy, max_depth=5, max_leaf_nodes=5, n_estimators=25;, score=0.750 total time=   0.0s\n",
      "[CV 5/5] END criterion=entropy, max_depth=5, max_leaf_nodes=5, n_estimators=25;, score=0.750 total time=   0.0s\n",
      "[CV 1/5] END criterion=entropy, max_depth=5, max_leaf_nodes=5, n_estimators=50;, score=0.750 total time=   0.1s\n",
      "[CV 2/5] END criterion=entropy, max_depth=5, max_leaf_nodes=5, n_estimators=50;, score=0.750 total time=   0.1s\n",
      "[CV 3/5] END criterion=entropy, max_depth=5, max_leaf_nodes=5, n_estimators=50;, score=0.750 total time=   0.1s\n",
      "[CV 4/5] END criterion=entropy, max_depth=5, max_leaf_nodes=5, n_estimators=50;, score=0.750 total time=   0.1s\n",
      "[CV 5/5] END criterion=entropy, max_depth=5, max_leaf_nodes=5, n_estimators=50;, score=0.750 total time=   0.1s\n",
      "[CV 1/5] END criterion=entropy, max_depth=5, max_leaf_nodes=5, n_estimators=100;, score=0.750 total time=   0.3s\n",
      "[CV 2/5] END criterion=entropy, max_depth=5, max_leaf_nodes=5, n_estimators=100;, score=0.750 total time=   0.3s\n",
      "[CV 3/5] END criterion=entropy, max_depth=5, max_leaf_nodes=5, n_estimators=100;, score=0.750 total time=   0.2s\n",
      "[CV 4/5] END criterion=entropy, max_depth=5, max_leaf_nodes=5, n_estimators=100;, score=0.750 total time=   0.2s\n",
      "[CV 5/5] END criterion=entropy, max_depth=5, max_leaf_nodes=5, n_estimators=100;, score=0.750 total time=   0.2s\n",
      "[CV 1/5] END criterion=entropy, max_depth=5, max_leaf_nodes=10, n_estimators=10;, score=0.755 total time=   0.0s\n",
      "[CV 2/5] END criterion=entropy, max_depth=5, max_leaf_nodes=10, n_estimators=10;, score=0.758 total time=   0.0s\n",
      "[CV 3/5] END criterion=entropy, max_depth=5, max_leaf_nodes=10, n_estimators=10;, score=0.755 total time=   0.0s\n",
      "[CV 4/5] END criterion=entropy, max_depth=5, max_leaf_nodes=10, n_estimators=10;, score=0.755 total time=   0.0s\n",
      "[CV 5/5] END criterion=entropy, max_depth=5, max_leaf_nodes=10, n_estimators=10;, score=0.753 total time=   0.0s\n",
      "[CV 1/5] END criterion=entropy, max_depth=5, max_leaf_nodes=10, n_estimators=25;, score=0.753 total time=   0.0s\n",
      "[CV 2/5] END criterion=entropy, max_depth=5, max_leaf_nodes=10, n_estimators=25;, score=0.751 total time=   0.0s\n",
      "[CV 3/5] END criterion=entropy, max_depth=5, max_leaf_nodes=10, n_estimators=25;, score=0.756 total time=   0.0s\n",
      "[CV 4/5] END criterion=entropy, max_depth=5, max_leaf_nodes=10, n_estimators=25;, score=0.755 total time=   0.0s\n",
      "[CV 5/5] END criterion=entropy, max_depth=5, max_leaf_nodes=10, n_estimators=25;, score=0.751 total time=   0.0s\n"
     ]
    },
    {
     "name": "stdout",
     "output_type": "stream",
     "text": [
      "[CV 1/5] END criterion=entropy, max_depth=5, max_leaf_nodes=10, n_estimators=50;, score=0.753 total time=   0.1s\n",
      "[CV 2/5] END criterion=entropy, max_depth=5, max_leaf_nodes=10, n_estimators=50;, score=0.753 total time=   0.1s\n",
      "[CV 3/5] END criterion=entropy, max_depth=5, max_leaf_nodes=10, n_estimators=50;, score=0.751 total time=   0.1s\n",
      "[CV 4/5] END criterion=entropy, max_depth=5, max_leaf_nodes=10, n_estimators=50;, score=0.753 total time=   0.1s\n",
      "[CV 5/5] END criterion=entropy, max_depth=5, max_leaf_nodes=10, n_estimators=50;, score=0.752 total time=   0.1s\n",
      "[CV 1/5] END criterion=entropy, max_depth=5, max_leaf_nodes=10, n_estimators=100;, score=0.755 total time=   0.3s\n",
      "[CV 2/5] END criterion=entropy, max_depth=5, max_leaf_nodes=10, n_estimators=100;, score=0.753 total time=   0.3s\n",
      "[CV 3/5] END criterion=entropy, max_depth=5, max_leaf_nodes=10, n_estimators=100;, score=0.755 total time=   0.3s\n",
      "[CV 4/5] END criterion=entropy, max_depth=5, max_leaf_nodes=10, n_estimators=100;, score=0.752 total time=   0.3s\n",
      "[CV 5/5] END criterion=entropy, max_depth=5, max_leaf_nodes=10, n_estimators=100;, score=0.754 total time=   0.3s\n",
      "[CV 1/5] END criterion=entropy, max_depth=5, max_leaf_nodes=20, n_estimators=10;, score=0.755 total time=   0.0s\n",
      "[CV 2/5] END criterion=entropy, max_depth=5, max_leaf_nodes=20, n_estimators=10;, score=0.764 total time=   0.0s\n",
      "[CV 3/5] END criterion=entropy, max_depth=5, max_leaf_nodes=20, n_estimators=10;, score=0.756 total time=   0.0s\n",
      "[CV 4/5] END criterion=entropy, max_depth=5, max_leaf_nodes=20, n_estimators=10;, score=0.753 total time=   0.0s\n",
      "[CV 5/5] END criterion=entropy, max_depth=5, max_leaf_nodes=20, n_estimators=10;, score=0.759 total time=   0.0s\n",
      "[CV 1/5] END criterion=entropy, max_depth=5, max_leaf_nodes=20, n_estimators=25;, score=0.752 total time=   0.0s\n",
      "[CV 2/5] END criterion=entropy, max_depth=5, max_leaf_nodes=20, n_estimators=25;, score=0.756 total time=   0.0s\n",
      "[CV 3/5] END criterion=entropy, max_depth=5, max_leaf_nodes=20, n_estimators=25;, score=0.758 total time=   0.0s\n",
      "[CV 4/5] END criterion=entropy, max_depth=5, max_leaf_nodes=20, n_estimators=25;, score=0.754 total time=   0.0s\n",
      "[CV 5/5] END criterion=entropy, max_depth=5, max_leaf_nodes=20, n_estimators=25;, score=0.755 total time=   0.0s\n",
      "[CV 1/5] END criterion=entropy, max_depth=5, max_leaf_nodes=20, n_estimators=50;, score=0.757 total time=   0.1s\n",
      "[CV 2/5] END criterion=entropy, max_depth=5, max_leaf_nodes=20, n_estimators=50;, score=0.756 total time=   0.2s\n",
      "[CV 3/5] END criterion=entropy, max_depth=5, max_leaf_nodes=20, n_estimators=50;, score=0.755 total time=   0.2s\n",
      "[CV 4/5] END criterion=entropy, max_depth=5, max_leaf_nodes=20, n_estimators=50;, score=0.754 total time=   0.1s\n",
      "[CV 5/5] END criterion=entropy, max_depth=5, max_leaf_nodes=20, n_estimators=50;, score=0.760 total time=   0.1s\n",
      "[CV 1/5] END criterion=entropy, max_depth=5, max_leaf_nodes=20, n_estimators=100;, score=0.757 total time=   0.3s\n",
      "[CV 2/5] END criterion=entropy, max_depth=5, max_leaf_nodes=20, n_estimators=100;, score=0.759 total time=   0.3s\n",
      "[CV 3/5] END criterion=entropy, max_depth=5, max_leaf_nodes=20, n_estimators=100;, score=0.755 total time=   0.3s\n",
      "[CV 4/5] END criterion=entropy, max_depth=5, max_leaf_nodes=20, n_estimators=100;, score=0.757 total time=   0.4s\n",
      "[CV 5/5] END criterion=entropy, max_depth=5, max_leaf_nodes=20, n_estimators=100;, score=0.762 total time=   0.4s\n",
      "[CV 1/5] END criterion=entropy, max_depth=10, max_leaf_nodes=2, n_estimators=10;, score=0.750 total time=   0.0s\n",
      "[CV 2/5] END criterion=entropy, max_depth=10, max_leaf_nodes=2, n_estimators=10;, score=0.750 total time=   0.0s\n",
      "[CV 3/5] END criterion=entropy, max_depth=10, max_leaf_nodes=2, n_estimators=10;, score=0.750 total time=   0.0s\n",
      "[CV 4/5] END criterion=entropy, max_depth=10, max_leaf_nodes=2, n_estimators=10;, score=0.750 total time=   0.0s\n",
      "[CV 5/5] END criterion=entropy, max_depth=10, max_leaf_nodes=2, n_estimators=10;, score=0.750 total time=   0.0s\n",
      "[CV 1/5] END criterion=entropy, max_depth=10, max_leaf_nodes=2, n_estimators=25;, score=0.750 total time=   0.0s\n",
      "[CV 2/5] END criterion=entropy, max_depth=10, max_leaf_nodes=2, n_estimators=25;, score=0.750 total time=   0.0s\n",
      "[CV 3/5] END criterion=entropy, max_depth=10, max_leaf_nodes=2, n_estimators=25;, score=0.750 total time=   0.0s\n",
      "[CV 4/5] END criterion=entropy, max_depth=10, max_leaf_nodes=2, n_estimators=25;, score=0.750 total time=   0.0s\n",
      "[CV 5/5] END criterion=entropy, max_depth=10, max_leaf_nodes=2, n_estimators=25;, score=0.750 total time=   0.0s\n",
      "[CV 1/5] END criterion=entropy, max_depth=10, max_leaf_nodes=2, n_estimators=50;, score=0.750 total time=   0.1s\n",
      "[CV 2/5] END criterion=entropy, max_depth=10, max_leaf_nodes=2, n_estimators=50;, score=0.750 total time=   0.1s\n",
      "[CV 3/5] END criterion=entropy, max_depth=10, max_leaf_nodes=2, n_estimators=50;, score=0.750 total time=   0.1s\n",
      "[CV 4/5] END criterion=entropy, max_depth=10, max_leaf_nodes=2, n_estimators=50;, score=0.750 total time=   0.1s\n",
      "[CV 5/5] END criterion=entropy, max_depth=10, max_leaf_nodes=2, n_estimators=50;, score=0.750 total time=   0.1s\n",
      "[CV 1/5] END criterion=entropy, max_depth=10, max_leaf_nodes=2, n_estimators=100;, score=0.750 total time=   0.2s\n",
      "[CV 2/5] END criterion=entropy, max_depth=10, max_leaf_nodes=2, n_estimators=100;, score=0.750 total time=   0.2s\n",
      "[CV 3/5] END criterion=entropy, max_depth=10, max_leaf_nodes=2, n_estimators=100;, score=0.750 total time=   0.2s\n",
      "[CV 4/5] END criterion=entropy, max_depth=10, max_leaf_nodes=2, n_estimators=100;, score=0.750 total time=   0.2s\n",
      "[CV 5/5] END criterion=entropy, max_depth=10, max_leaf_nodes=2, n_estimators=100;, score=0.750 total time=   0.2s\n",
      "[CV 1/5] END criterion=entropy, max_depth=10, max_leaf_nodes=5, n_estimators=10;, score=0.751 total time=   0.0s\n",
      "[CV 2/5] END criterion=entropy, max_depth=10, max_leaf_nodes=5, n_estimators=10;, score=0.750 total time=   0.0s\n",
      "[CV 3/5] END criterion=entropy, max_depth=10, max_leaf_nodes=5, n_estimators=10;, score=0.750 total time=   0.0s\n",
      "[CV 4/5] END criterion=entropy, max_depth=10, max_leaf_nodes=5, n_estimators=10;, score=0.750 total time=   0.0s\n",
      "[CV 5/5] END criterion=entropy, max_depth=10, max_leaf_nodes=5, n_estimators=10;, score=0.750 total time=   0.0s\n",
      "[CV 1/5] END criterion=entropy, max_depth=10, max_leaf_nodes=5, n_estimators=25;, score=0.750 total time=   0.0s\n",
      "[CV 2/5] END criterion=entropy, max_depth=10, max_leaf_nodes=5, n_estimators=25;, score=0.750 total time=   0.0s\n",
      "[CV 3/5] END criterion=entropy, max_depth=10, max_leaf_nodes=5, n_estimators=25;, score=0.750 total time=   0.0s\n",
      "[CV 4/5] END criterion=entropy, max_depth=10, max_leaf_nodes=5, n_estimators=25;, score=0.750 total time=   0.0s\n",
      "[CV 5/5] END criterion=entropy, max_depth=10, max_leaf_nodes=5, n_estimators=25;, score=0.750 total time=   0.0s\n",
      "[CV 1/5] END criterion=entropy, max_depth=10, max_leaf_nodes=5, n_estimators=50;, score=0.750 total time=   0.1s\n",
      "[CV 2/5] END criterion=entropy, max_depth=10, max_leaf_nodes=5, n_estimators=50;, score=0.750 total time=   0.1s\n",
      "[CV 3/5] END criterion=entropy, max_depth=10, max_leaf_nodes=5, n_estimators=50;, score=0.750 total time=   0.1s\n",
      "[CV 4/5] END criterion=entropy, max_depth=10, max_leaf_nodes=5, n_estimators=50;, score=0.750 total time=   0.1s\n",
      "[CV 5/5] END criterion=entropy, max_depth=10, max_leaf_nodes=5, n_estimators=50;, score=0.750 total time=   0.1s\n",
      "[CV 1/5] END criterion=entropy, max_depth=10, max_leaf_nodes=5, n_estimators=100;, score=0.750 total time=   0.3s\n",
      "[CV 2/5] END criterion=entropy, max_depth=10, max_leaf_nodes=5, n_estimators=100;, score=0.750 total time=   0.3s\n",
      "[CV 3/5] END criterion=entropy, max_depth=10, max_leaf_nodes=5, n_estimators=100;, score=0.750 total time=   0.3s\n",
      "[CV 4/5] END criterion=entropy, max_depth=10, max_leaf_nodes=5, n_estimators=100;, score=0.750 total time=   0.3s\n",
      "[CV 5/5] END criterion=entropy, max_depth=10, max_leaf_nodes=5, n_estimators=100;, score=0.750 total time=   0.3s\n",
      "[CV 1/5] END criterion=entropy, max_depth=10, max_leaf_nodes=10, n_estimators=10;, score=0.755 total time=   0.0s\n",
      "[CV 2/5] END criterion=entropy, max_depth=10, max_leaf_nodes=10, n_estimators=10;, score=0.753 total time=   0.0s\n",
      "[CV 3/5] END criterion=entropy, max_depth=10, max_leaf_nodes=10, n_estimators=10;, score=0.758 total time=   0.0s\n",
      "[CV 4/5] END criterion=entropy, max_depth=10, max_leaf_nodes=10, n_estimators=10;, score=0.753 total time=   0.0s\n"
     ]
    },
    {
     "name": "stdout",
     "output_type": "stream",
     "text": [
      "[CV 5/5] END criterion=entropy, max_depth=10, max_leaf_nodes=10, n_estimators=10;, score=0.760 total time=   0.0s\n",
      "[CV 1/5] END criterion=entropy, max_depth=10, max_leaf_nodes=10, n_estimators=25;, score=0.751 total time=   0.0s\n",
      "[CV 2/5] END criterion=entropy, max_depth=10, max_leaf_nodes=10, n_estimators=25;, score=0.759 total time=   0.0s\n",
      "[CV 3/5] END criterion=entropy, max_depth=10, max_leaf_nodes=10, n_estimators=25;, score=0.756 total time=   0.0s\n",
      "[CV 4/5] END criterion=entropy, max_depth=10, max_leaf_nodes=10, n_estimators=25;, score=0.756 total time=   0.0s\n",
      "[CV 5/5] END criterion=entropy, max_depth=10, max_leaf_nodes=10, n_estimators=25;, score=0.758 total time=   0.0s\n",
      "[CV 1/5] END criterion=entropy, max_depth=10, max_leaf_nodes=10, n_estimators=50;, score=0.752 total time=   0.2s\n",
      "[CV 2/5] END criterion=entropy, max_depth=10, max_leaf_nodes=10, n_estimators=50;, score=0.754 total time=   0.1s\n",
      "[CV 3/5] END criterion=entropy, max_depth=10, max_leaf_nodes=10, n_estimators=50;, score=0.753 total time=   0.1s\n",
      "[CV 4/5] END criterion=entropy, max_depth=10, max_leaf_nodes=10, n_estimators=50;, score=0.753 total time=   0.1s\n",
      "[CV 5/5] END criterion=entropy, max_depth=10, max_leaf_nodes=10, n_estimators=50;, score=0.759 total time=   0.1s\n",
      "[CV 1/5] END criterion=entropy, max_depth=10, max_leaf_nodes=10, n_estimators=100;, score=0.755 total time=   0.3s\n",
      "[CV 2/5] END criterion=entropy, max_depth=10, max_leaf_nodes=10, n_estimators=100;, score=0.756 total time=   0.3s\n",
      "[CV 3/5] END criterion=entropy, max_depth=10, max_leaf_nodes=10, n_estimators=100;, score=0.753 total time=   0.3s\n",
      "[CV 4/5] END criterion=entropy, max_depth=10, max_leaf_nodes=10, n_estimators=100;, score=0.755 total time=   0.3s\n",
      "[CV 5/5] END criterion=entropy, max_depth=10, max_leaf_nodes=10, n_estimators=100;, score=0.757 total time=   0.3s\n",
      "[CV 1/5] END criterion=entropy, max_depth=10, max_leaf_nodes=20, n_estimators=10;, score=0.767 total time=   0.0s\n",
      "[CV 2/5] END criterion=entropy, max_depth=10, max_leaf_nodes=20, n_estimators=10;, score=0.755 total time=   0.0s\n",
      "[CV 3/5] END criterion=entropy, max_depth=10, max_leaf_nodes=20, n_estimators=10;, score=0.756 total time=   0.0s\n",
      "[CV 4/5] END criterion=entropy, max_depth=10, max_leaf_nodes=20, n_estimators=10;, score=0.776 total time=   0.0s\n",
      "[CV 5/5] END criterion=entropy, max_depth=10, max_leaf_nodes=20, n_estimators=10;, score=0.767 total time=   0.0s\n",
      "[CV 1/5] END criterion=entropy, max_depth=10, max_leaf_nodes=20, n_estimators=25;, score=0.758 total time=   0.0s\n",
      "[CV 2/5] END criterion=entropy, max_depth=10, max_leaf_nodes=20, n_estimators=25;, score=0.762 total time=   0.0s\n",
      "[CV 3/5] END criterion=entropy, max_depth=10, max_leaf_nodes=20, n_estimators=25;, score=0.753 total time=   0.0s\n",
      "[CV 4/5] END criterion=entropy, max_depth=10, max_leaf_nodes=20, n_estimators=25;, score=0.756 total time=   0.0s\n",
      "[CV 5/5] END criterion=entropy, max_depth=10, max_leaf_nodes=20, n_estimators=25;, score=0.770 total time=   0.0s\n",
      "[CV 1/5] END criterion=entropy, max_depth=10, max_leaf_nodes=20, n_estimators=50;, score=0.760 total time=   0.1s\n",
      "[CV 2/5] END criterion=entropy, max_depth=10, max_leaf_nodes=20, n_estimators=50;, score=0.759 total time=   0.1s\n",
      "[CV 3/5] END criterion=entropy, max_depth=10, max_leaf_nodes=20, n_estimators=50;, score=0.752 total time=   0.2s\n",
      "[CV 4/5] END criterion=entropy, max_depth=10, max_leaf_nodes=20, n_estimators=50;, score=0.756 total time=   0.1s\n",
      "[CV 5/5] END criterion=entropy, max_depth=10, max_leaf_nodes=20, n_estimators=50;, score=0.767 total time=   0.1s\n",
      "[CV 1/5] END criterion=entropy, max_depth=10, max_leaf_nodes=20, n_estimators=100;, score=0.762 total time=   0.4s\n",
      "[CV 2/5] END criterion=entropy, max_depth=10, max_leaf_nodes=20, n_estimators=100;, score=0.762 total time=   0.4s\n",
      "[CV 3/5] END criterion=entropy, max_depth=10, max_leaf_nodes=20, n_estimators=100;, score=0.757 total time=   0.4s\n",
      "[CV 4/5] END criterion=entropy, max_depth=10, max_leaf_nodes=20, n_estimators=100;, score=0.759 total time=   0.4s\n",
      "[CV 5/5] END criterion=entropy, max_depth=10, max_leaf_nodes=20, n_estimators=100;, score=0.759 total time=   0.4s\n",
      "[CV 1/5] END criterion=entropy, max_depth=20, max_leaf_nodes=2, n_estimators=10;, score=0.750 total time=   0.0s\n",
      "[CV 2/5] END criterion=entropy, max_depth=20, max_leaf_nodes=2, n_estimators=10;, score=0.750 total time=   0.0s\n",
      "[CV 3/5] END criterion=entropy, max_depth=20, max_leaf_nodes=2, n_estimators=10;, score=0.750 total time=   0.0s\n",
      "[CV 4/5] END criterion=entropy, max_depth=20, max_leaf_nodes=2, n_estimators=10;, score=0.750 total time=   0.0s\n",
      "[CV 5/5] END criterion=entropy, max_depth=20, max_leaf_nodes=2, n_estimators=10;, score=0.750 total time=   0.0s\n",
      "[CV 1/5] END criterion=entropy, max_depth=20, max_leaf_nodes=2, n_estimators=25;, score=0.750 total time=   0.0s\n",
      "[CV 2/5] END criterion=entropy, max_depth=20, max_leaf_nodes=2, n_estimators=25;, score=0.750 total time=   0.0s\n",
      "[CV 3/5] END criterion=entropy, max_depth=20, max_leaf_nodes=2, n_estimators=25;, score=0.750 total time=   0.0s\n",
      "[CV 4/5] END criterion=entropy, max_depth=20, max_leaf_nodes=2, n_estimators=25;, score=0.750 total time=   0.0s\n",
      "[CV 5/5] END criterion=entropy, max_depth=20, max_leaf_nodes=2, n_estimators=25;, score=0.750 total time=   0.0s\n",
      "[CV 1/5] END criterion=entropy, max_depth=20, max_leaf_nodes=2, n_estimators=50;, score=0.750 total time=   0.1s\n",
      "[CV 2/5] END criterion=entropy, max_depth=20, max_leaf_nodes=2, n_estimators=50;, score=0.750 total time=   0.1s\n",
      "[CV 3/5] END criterion=entropy, max_depth=20, max_leaf_nodes=2, n_estimators=50;, score=0.750 total time=   0.1s\n",
      "[CV 4/5] END criterion=entropy, max_depth=20, max_leaf_nodes=2, n_estimators=50;, score=0.750 total time=   0.1s\n",
      "[CV 5/5] END criterion=entropy, max_depth=20, max_leaf_nodes=2, n_estimators=50;, score=0.750 total time=   0.1s\n",
      "[CV 1/5] END criterion=entropy, max_depth=20, max_leaf_nodes=2, n_estimators=100;, score=0.750 total time=   0.2s\n",
      "[CV 2/5] END criterion=entropy, max_depth=20, max_leaf_nodes=2, n_estimators=100;, score=0.750 total time=   0.2s\n",
      "[CV 3/5] END criterion=entropy, max_depth=20, max_leaf_nodes=2, n_estimators=100;, score=0.750 total time=   0.2s\n",
      "[CV 4/5] END criterion=entropy, max_depth=20, max_leaf_nodes=2, n_estimators=100;, score=0.750 total time=   0.2s\n",
      "[CV 5/5] END criterion=entropy, max_depth=20, max_leaf_nodes=2, n_estimators=100;, score=0.750 total time=   0.2s\n",
      "[CV 1/5] END criterion=entropy, max_depth=20, max_leaf_nodes=5, n_estimators=10;, score=0.750 total time=   0.0s\n",
      "[CV 2/5] END criterion=entropy, max_depth=20, max_leaf_nodes=5, n_estimators=10;, score=0.750 total time=   0.0s\n",
      "[CV 3/5] END criterion=entropy, max_depth=20, max_leaf_nodes=5, n_estimators=10;, score=0.750 total time=   0.0s\n",
      "[CV 4/5] END criterion=entropy, max_depth=20, max_leaf_nodes=5, n_estimators=10;, score=0.750 total time=   0.0s\n",
      "[CV 5/5] END criterion=entropy, max_depth=20, max_leaf_nodes=5, n_estimators=10;, score=0.750 total time=   0.0s\n",
      "[CV 1/5] END criterion=entropy, max_depth=20, max_leaf_nodes=5, n_estimators=25;, score=0.750 total time=   0.0s\n",
      "[CV 2/5] END criterion=entropy, max_depth=20, max_leaf_nodes=5, n_estimators=25;, score=0.750 total time=   0.0s\n",
      "[CV 3/5] END criterion=entropy, max_depth=20, max_leaf_nodes=5, n_estimators=25;, score=0.750 total time=   0.0s\n",
      "[CV 4/5] END criterion=entropy, max_depth=20, max_leaf_nodes=5, n_estimators=25;, score=0.750 total time=   0.0s\n",
      "[CV 5/5] END criterion=entropy, max_depth=20, max_leaf_nodes=5, n_estimators=25;, score=0.750 total time=   0.0s\n",
      "[CV 1/5] END criterion=entropy, max_depth=20, max_leaf_nodes=5, n_estimators=50;, score=0.750 total time=   0.1s\n",
      "[CV 2/5] END criterion=entropy, max_depth=20, max_leaf_nodes=5, n_estimators=50;, score=0.750 total time=   0.1s\n",
      "[CV 3/5] END criterion=entropy, max_depth=20, max_leaf_nodes=5, n_estimators=50;, score=0.750 total time=   0.1s\n",
      "[CV 4/5] END criterion=entropy, max_depth=20, max_leaf_nodes=5, n_estimators=50;, score=0.750 total time=   0.1s\n",
      "[CV 5/5] END criterion=entropy, max_depth=20, max_leaf_nodes=5, n_estimators=50;, score=0.750 total time=   0.1s\n",
      "[CV 1/5] END criterion=entropy, max_depth=20, max_leaf_nodes=5, n_estimators=100;, score=0.750 total time=   0.3s\n",
      "[CV 2/5] END criterion=entropy, max_depth=20, max_leaf_nodes=5, n_estimators=100;, score=0.750 total time=   0.3s\n"
     ]
    },
    {
     "name": "stdout",
     "output_type": "stream",
     "text": [
      "[CV 3/5] END criterion=entropy, max_depth=20, max_leaf_nodes=5, n_estimators=100;, score=0.750 total time=   0.3s\n",
      "[CV 4/5] END criterion=entropy, max_depth=20, max_leaf_nodes=5, n_estimators=100;, score=0.750 total time=   0.3s\n",
      "[CV 5/5] END criterion=entropy, max_depth=20, max_leaf_nodes=5, n_estimators=100;, score=0.750 total time=   0.3s\n",
      "[CV 1/5] END criterion=entropy, max_depth=20, max_leaf_nodes=10, n_estimators=10;, score=0.752 total time=   0.0s\n",
      "[CV 2/5] END criterion=entropy, max_depth=20, max_leaf_nodes=10, n_estimators=10;, score=0.755 total time=   0.0s\n",
      "[CV 3/5] END criterion=entropy, max_depth=20, max_leaf_nodes=10, n_estimators=10;, score=0.752 total time=   0.0s\n",
      "[CV 4/5] END criterion=entropy, max_depth=20, max_leaf_nodes=10, n_estimators=10;, score=0.755 total time=   0.0s\n",
      "[CV 5/5] END criterion=entropy, max_depth=20, max_leaf_nodes=10, n_estimators=10;, score=0.757 total time=   0.0s\n",
      "[CV 1/5] END criterion=entropy, max_depth=20, max_leaf_nodes=10, n_estimators=25;, score=0.754 total time=   0.0s\n",
      "[CV 2/5] END criterion=entropy, max_depth=20, max_leaf_nodes=10, n_estimators=25;, score=0.751 total time=   0.0s\n",
      "[CV 3/5] END criterion=entropy, max_depth=20, max_leaf_nodes=10, n_estimators=25;, score=0.757 total time=   0.0s\n",
      "[CV 4/5] END criterion=entropy, max_depth=20, max_leaf_nodes=10, n_estimators=25;, score=0.750 total time=   0.0s\n",
      "[CV 5/5] END criterion=entropy, max_depth=20, max_leaf_nodes=10, n_estimators=25;, score=0.756 total time=   0.0s\n",
      "[CV 1/5] END criterion=entropy, max_depth=20, max_leaf_nodes=10, n_estimators=50;, score=0.751 total time=   0.1s\n",
      "[CV 2/5] END criterion=entropy, max_depth=20, max_leaf_nodes=10, n_estimators=50;, score=0.755 total time=   0.1s\n",
      "[CV 3/5] END criterion=entropy, max_depth=20, max_leaf_nodes=10, n_estimators=50;, score=0.755 total time=   0.1s\n",
      "[CV 4/5] END criterion=entropy, max_depth=20, max_leaf_nodes=10, n_estimators=50;, score=0.754 total time=   0.1s\n",
      "[CV 5/5] END criterion=entropy, max_depth=20, max_leaf_nodes=10, n_estimators=50;, score=0.755 total time=   0.1s\n",
      "[CV 1/5] END criterion=entropy, max_depth=20, max_leaf_nodes=10, n_estimators=100;, score=0.752 total time=   0.3s\n",
      "[CV 2/5] END criterion=entropy, max_depth=20, max_leaf_nodes=10, n_estimators=100;, score=0.757 total time=   0.3s\n",
      "[CV 3/5] END criterion=entropy, max_depth=20, max_leaf_nodes=10, n_estimators=100;, score=0.755 total time=   0.3s\n",
      "[CV 4/5] END criterion=entropy, max_depth=20, max_leaf_nodes=10, n_estimators=100;, score=0.753 total time=   0.3s\n",
      "[CV 5/5] END criterion=entropy, max_depth=20, max_leaf_nodes=10, n_estimators=100;, score=0.757 total time=   0.3s\n",
      "[CV 1/5] END criterion=entropy, max_depth=20, max_leaf_nodes=20, n_estimators=10;, score=0.761 total time=   0.0s\n",
      "[CV 2/5] END criterion=entropy, max_depth=20, max_leaf_nodes=20, n_estimators=10;, score=0.760 total time=   0.0s\n",
      "[CV 3/5] END criterion=entropy, max_depth=20, max_leaf_nodes=20, n_estimators=10;, score=0.772 total time=   0.0s\n",
      "[CV 4/5] END criterion=entropy, max_depth=20, max_leaf_nodes=20, n_estimators=10;, score=0.762 total time=   0.0s\n",
      "[CV 5/5] END criterion=entropy, max_depth=20, max_leaf_nodes=20, n_estimators=10;, score=0.759 total time=   0.0s\n",
      "[CV 1/5] END criterion=entropy, max_depth=20, max_leaf_nodes=20, n_estimators=25;, score=0.760 total time=   0.0s\n",
      "[CV 2/5] END criterion=entropy, max_depth=20, max_leaf_nodes=20, n_estimators=25;, score=0.763 total time=   0.0s\n",
      "[CV 3/5] END criterion=entropy, max_depth=20, max_leaf_nodes=20, n_estimators=25;, score=0.755 total time=   0.0s\n",
      "[CV 4/5] END criterion=entropy, max_depth=20, max_leaf_nodes=20, n_estimators=25;, score=0.755 total time=   0.1s\n",
      "[CV 5/5] END criterion=entropy, max_depth=20, max_leaf_nodes=20, n_estimators=25;, score=0.760 total time=   0.0s\n",
      "[CV 1/5] END criterion=entropy, max_depth=20, max_leaf_nodes=20, n_estimators=50;, score=0.758 total time=   0.2s\n",
      "[CV 2/5] END criterion=entropy, max_depth=20, max_leaf_nodes=20, n_estimators=50;, score=0.759 total time=   0.2s\n",
      "[CV 3/5] END criterion=entropy, max_depth=20, max_leaf_nodes=20, n_estimators=50;, score=0.755 total time=   0.2s\n",
      "[CV 4/5] END criterion=entropy, max_depth=20, max_leaf_nodes=20, n_estimators=50;, score=0.757 total time=   0.2s\n",
      "[CV 5/5] END criterion=entropy, max_depth=20, max_leaf_nodes=20, n_estimators=50;, score=0.759 total time=   0.1s\n",
      "[CV 1/5] END criterion=entropy, max_depth=20, max_leaf_nodes=20, n_estimators=100;, score=0.757 total time=   0.4s\n",
      "[CV 2/5] END criterion=entropy, max_depth=20, max_leaf_nodes=20, n_estimators=100;, score=0.758 total time=   0.3s\n",
      "[CV 3/5] END criterion=entropy, max_depth=20, max_leaf_nodes=20, n_estimators=100;, score=0.756 total time=   0.4s\n",
      "[CV 4/5] END criterion=entropy, max_depth=20, max_leaf_nodes=20, n_estimators=100;, score=0.759 total time=   0.3s\n",
      "[CV 5/5] END criterion=entropy, max_depth=20, max_leaf_nodes=20, n_estimators=100;, score=0.761 total time=   0.3s\n"
     ]
    },
    {
     "data": {
      "text/html": [
       "<style>#sk-container-id-2 {color: black;background-color: white;}#sk-container-id-2 pre{padding: 0;}#sk-container-id-2 div.sk-toggleable {background-color: white;}#sk-container-id-2 label.sk-toggleable__label {cursor: pointer;display: block;width: 100%;margin-bottom: 0;padding: 0.3em;box-sizing: border-box;text-align: center;}#sk-container-id-2 label.sk-toggleable__label-arrow:before {content: \"▸\";float: left;margin-right: 0.25em;color: #696969;}#sk-container-id-2 label.sk-toggleable__label-arrow:hover:before {color: black;}#sk-container-id-2 div.sk-estimator:hover label.sk-toggleable__label-arrow:before {color: black;}#sk-container-id-2 div.sk-toggleable__content {max-height: 0;max-width: 0;overflow: hidden;text-align: left;background-color: #f0f8ff;}#sk-container-id-2 div.sk-toggleable__content pre {margin: 0.2em;color: black;border-radius: 0.25em;background-color: #f0f8ff;}#sk-container-id-2 input.sk-toggleable__control:checked~div.sk-toggleable__content {max-height: 200px;max-width: 100%;overflow: auto;}#sk-container-id-2 input.sk-toggleable__control:checked~label.sk-toggleable__label-arrow:before {content: \"▾\";}#sk-container-id-2 div.sk-estimator input.sk-toggleable__control:checked~label.sk-toggleable__label {background-color: #d4ebff;}#sk-container-id-2 div.sk-label input.sk-toggleable__control:checked~label.sk-toggleable__label {background-color: #d4ebff;}#sk-container-id-2 input.sk-hidden--visually {border: 0;clip: rect(1px 1px 1px 1px);clip: rect(1px, 1px, 1px, 1px);height: 1px;margin: -1px;overflow: hidden;padding: 0;position: absolute;width: 1px;}#sk-container-id-2 div.sk-estimator {font-family: monospace;background-color: #f0f8ff;border: 1px dotted black;border-radius: 0.25em;box-sizing: border-box;margin-bottom: 0.5em;}#sk-container-id-2 div.sk-estimator:hover {background-color: #d4ebff;}#sk-container-id-2 div.sk-parallel-item::after {content: \"\";width: 100%;border-bottom: 1px solid gray;flex-grow: 1;}#sk-container-id-2 div.sk-label:hover label.sk-toggleable__label {background-color: #d4ebff;}#sk-container-id-2 div.sk-serial::before {content: \"\";position: absolute;border-left: 1px solid gray;box-sizing: border-box;top: 0;bottom: 0;left: 50%;z-index: 0;}#sk-container-id-2 div.sk-serial {display: flex;flex-direction: column;align-items: center;background-color: white;padding-right: 0.2em;padding-left: 0.2em;position: relative;}#sk-container-id-2 div.sk-item {position: relative;z-index: 1;}#sk-container-id-2 div.sk-parallel {display: flex;align-items: stretch;justify-content: center;background-color: white;position: relative;}#sk-container-id-2 div.sk-item::before, #sk-container-id-2 div.sk-parallel-item::before {content: \"\";position: absolute;border-left: 1px solid gray;box-sizing: border-box;top: 0;bottom: 0;left: 50%;z-index: -1;}#sk-container-id-2 div.sk-parallel-item {display: flex;flex-direction: column;z-index: 1;position: relative;background-color: white;}#sk-container-id-2 div.sk-parallel-item:first-child::after {align-self: flex-end;width: 50%;}#sk-container-id-2 div.sk-parallel-item:last-child::after {align-self: flex-start;width: 50%;}#sk-container-id-2 div.sk-parallel-item:only-child::after {width: 0;}#sk-container-id-2 div.sk-dashed-wrapped {border: 1px dashed gray;margin: 0 0.4em 0.5em 0.4em;box-sizing: border-box;padding-bottom: 0.4em;background-color: white;}#sk-container-id-2 div.sk-label label {font-family: monospace;font-weight: bold;display: inline-block;line-height: 1.2em;}#sk-container-id-2 div.sk-label-container {text-align: center;}#sk-container-id-2 div.sk-container {/* jupyter's `normalize.less` sets `[hidden] { display: none; }` but bootstrap.min.css set `[hidden] { display: none !important; }` so we also need the `!important` here to be able to override the default hidden behavior on the sphinx rendered scikit-learn.org. See: https://github.com/scikit-learn/scikit-learn/issues/21755 */display: inline-block !important;position: relative;}#sk-container-id-2 div.sk-text-repr-fallback {display: none;}</style><div id=\"sk-container-id-2\" class=\"sk-top-container\"><div class=\"sk-text-repr-fallback\"><pre>GridSearchCV(cv=5, estimator=RandomForestClassifier(),\n",
       "             param_grid={&#x27;criterion&#x27;: [&#x27;gini&#x27;, &#x27;entropy&#x27;],\n",
       "                         &#x27;max_depth&#x27;: [2, 5, 10, 20],\n",
       "                         &#x27;max_leaf_nodes&#x27;: [2, 5, 10, 20],\n",
       "                         &#x27;n_estimators&#x27;: [10, 25, 50, 100]},\n",
       "             verbose=5)</pre><b>In a Jupyter environment, please rerun this cell to show the HTML representation or trust the notebook. <br />On GitHub, the HTML representation is unable to render, please try loading this page with nbviewer.org.</b></div><div class=\"sk-container\" hidden><div class=\"sk-item sk-dashed-wrapped\"><div class=\"sk-label-container\"><div class=\"sk-label sk-toggleable\"><input class=\"sk-toggleable__control sk-hidden--visually\" id=\"sk-estimator-id-2\" type=\"checkbox\" ><label for=\"sk-estimator-id-2\" class=\"sk-toggleable__label sk-toggleable__label-arrow\">GridSearchCV</label><div class=\"sk-toggleable__content\"><pre>GridSearchCV(cv=5, estimator=RandomForestClassifier(),\n",
       "             param_grid={&#x27;criterion&#x27;: [&#x27;gini&#x27;, &#x27;entropy&#x27;],\n",
       "                         &#x27;max_depth&#x27;: [2, 5, 10, 20],\n",
       "                         &#x27;max_leaf_nodes&#x27;: [2, 5, 10, 20],\n",
       "                         &#x27;n_estimators&#x27;: [10, 25, 50, 100]},\n",
       "             verbose=5)</pre></div></div></div><div class=\"sk-parallel\"><div class=\"sk-parallel-item\"><div class=\"sk-item\"><div class=\"sk-label-container\"><div class=\"sk-label sk-toggleable\"><input class=\"sk-toggleable__control sk-hidden--visually\" id=\"sk-estimator-id-3\" type=\"checkbox\" ><label for=\"sk-estimator-id-3\" class=\"sk-toggleable__label sk-toggleable__label-arrow\">estimator: RandomForestClassifier</label><div class=\"sk-toggleable__content\"><pre>RandomForestClassifier()</pre></div></div></div><div class=\"sk-serial\"><div class=\"sk-item\"><div class=\"sk-estimator sk-toggleable\"><input class=\"sk-toggleable__control sk-hidden--visually\" id=\"sk-estimator-id-4\" type=\"checkbox\" ><label for=\"sk-estimator-id-4\" class=\"sk-toggleable__label sk-toggleable__label-arrow\">RandomForestClassifier</label><div class=\"sk-toggleable__content\"><pre>RandomForestClassifier()</pre></div></div></div></div></div></div></div></div></div></div>"
      ],
      "text/plain": [
       "GridSearchCV(cv=5, estimator=RandomForestClassifier(),\n",
       "             param_grid={'criterion': ['gini', 'entropy'],\n",
       "                         'max_depth': [2, 5, 10, 20],\n",
       "                         'max_leaf_nodes': [2, 5, 10, 20],\n",
       "                         'n_estimators': [10, 25, 50, 100]},\n",
       "             verbose=5)"
      ]
     },
     "execution_count": 162,
     "metadata": {},
     "output_type": "execute_result"
    }
   ],
   "source": [
    "grid.fit(X_train, y_train)"
   ]
  },
  {
   "cell_type": "code",
   "execution_count": 164,
   "id": "d220abd6",
   "metadata": {},
   "outputs": [],
   "source": [
    "y_pred_grid = grid.predict(X_test)"
   ]
  },
  {
   "cell_type": "code",
   "execution_count": 166,
   "id": "e829475f",
   "metadata": {},
   "outputs": [
    {
     "name": "stdout",
     "output_type": "stream",
     "text": [
      "              precision    recall  f1-score   support\n",
      "\n",
      "         0.0       0.77      0.97      0.86      2880\n",
      "         1.0       0.61      0.13      0.21       952\n",
      "\n",
      "    accuracy                           0.76      3832\n",
      "   macro avg       0.69      0.55      0.54      3832\n",
      "weighted avg       0.73      0.76      0.70      3832\n",
      "\n"
     ]
    }
   ],
   "source": [
    "print(classification_report(y_test,y_pred_grid))"
   ]
  },
  {
   "cell_type": "code",
   "execution_count": null,
   "id": "3bc40b9e",
   "metadata": {},
   "outputs": [],
   "source": []
  }
 ],
 "metadata": {
  "kernelspec": {
   "display_name": "Python 3 (ipykernel)",
   "language": "python",
   "name": "python3"
  },
  "language_info": {
   "codemirror_mode": {
    "name": "ipython",
    "version": 3
   },
   "file_extension": ".py",
   "mimetype": "text/x-python",
   "name": "python",
   "nbconvert_exporter": "python",
   "pygments_lexer": "ipython3",
   "version": "3.11.7"
  }
 },
 "nbformat": 4,
 "nbformat_minor": 5
}
